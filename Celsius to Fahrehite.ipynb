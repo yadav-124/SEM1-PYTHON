{
 "cells": [
  {
   "cell_type": "markdown",
   "metadata": {},
   "source": [
    "Given a temperature in Celsius, convert it to Fahrenheit using the formula F = (C * 1.8) + 32. If the temperature is above 90°F, print “It’s hot outside!” otherwise, print “The temperature is pleasant”"
   ]
  },
  {
   "cell_type": "code",
   "execution_count": 2,
   "metadata": {},
   "outputs": [
    {
     "name": "stdout",
     "output_type": "stream",
     "text": [
      "the temperature in fehrenhite is: 113.0\n",
      "it's hot outside\n"
     ]
    }
   ],
   "source": [
    "c=float(input(\"enter the temperature in celsious:\"))  #take the input from the user in  as celsius \n",
    "f=(c*1.8)+32  #this farmuls will convert the value of the temperature from celsius to fehrenhite.\n",
    "print(\"the temperature in fehrenhite is:\",f)\n",
    "if f>90:  # We are checking for the condition that will decide weather condition\n",
    "    print(\"it's hot outside\")\n",
    "else:\n",
    "    print(\"the temprture is pleasant\")"
   ]
  }
 ],
 "metadata": {
  "kernelspec": {
   "display_name": "base",
   "language": "python",
   "name": "python3"
  },
  "language_info": {
   "codemirror_mode": {
    "name": "ipython",
    "version": 3
   },
   "file_extension": ".py",
   "mimetype": "text/x-python",
   "name": "python",
   "nbconvert_exporter": "python",
   "pygments_lexer": "ipython3",
   "version": "3.11.4"
  }
 },
 "nbformat": 4,
 "nbformat_minor": 2
}
