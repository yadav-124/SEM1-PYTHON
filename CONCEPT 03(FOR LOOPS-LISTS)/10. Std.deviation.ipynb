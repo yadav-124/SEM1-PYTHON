{
 "cells": [
  {
   "cell_type": "markdown",
   "metadata": {},
   "source": [
    "Given a list of numbers, find out the mean and standard deviation."
   ]
  },
  {
   "cell_type": "code",
   "execution_count": 8,
   "metadata": {},
   "outputs": [
    {
     "name": "stdout",
     "output_type": "stream",
     "text": [
      "the standard deviation of given numbers is 2.2066660372607365\n"
     ]
    }
   ],
   "source": [
    "list1=[1,2.6,3,4.8,5,6,7,8]\n",
    "sum=0  #logic is what we are going to use the farmula of the standard deviation \n",
    "sum1=0\n",
    "for i in (list1):  #we  also need the average of the elements also so we will use the sum and len function to find them.\n",
    "    sum=sum+(i)\n",
    "    sum1=sum1+(i)*(i)\n",
    "    a=sum\n",
    "    b=sum1\n",
    "    c=len(list1)\n",
    "    sd=(((1/c)*b)-(1/(c*c))*(a*a))**(0.5)\n",
    "print(\"the standard deviation of given numbers is\",sd)"
   ]
  }
 ],
 "metadata": {
  "kernelspec": {
   "display_name": "base",
   "language": "python",
   "name": "python3"
  },
  "language_info": {
   "codemirror_mode": {
    "name": "ipython",
    "version": 3
   },
   "file_extension": ".py",
   "mimetype": "text/x-python",
   "name": "python",
   "nbconvert_exporter": "python",
   "pygments_lexer": "ipython3",
   "version": "3.11.4"
  }
 },
 "nbformat": 4,
 "nbformat_minor": 2
}
