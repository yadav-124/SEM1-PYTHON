{
 "cells": [
  {
   "cell_type": "markdown",
   "metadata": {},
   "source": [
    "Given a list of numbers, find out the mean and standard deviation."
   ]
  },
  {
   "cell_type": "code",
   "execution_count": 2,
   "metadata": {},
   "outputs": [
    {
     "data": {
      "text/plain": [
       "2.796496133557134"
      ]
     },
     "execution_count": 2,
     "metadata": {},
     "output_type": "execute_result"
    }
   ],
   "source": [
    "def find_sd(list1):\n",
    "    n=len(list1)\n",
    "    sum1=0\n",
    "    sum2=0\n",
    "    for i in list1:\n",
    "        sum1+=i\n",
    "        m=sum1/n\n",
    "        sq_diff=(i-m)**2\n",
    "        sum2+=sq_diff\n",
    "    sd=(sum2/(n))**0.5\n",
    "    return sd\n",
    "find_sd([1,2.6,3,4.8,5,6,7,8])"
   ]
  }
 ],
 "metadata": {
  "kernelspec": {
   "display_name": "base",
   "language": "python",
   "name": "python3"
  },
  "language_info": {
   "codemirror_mode": {
    "name": "ipython",
    "version": 3
   },
   "file_extension": ".py",
   "mimetype": "text/x-python",
   "name": "python",
   "nbconvert_exporter": "python",
   "pygments_lexer": "ipython3",
   "version": "3.11.4"
  }
 },
 "nbformat": 4,
 "nbformat_minor": 2
}
