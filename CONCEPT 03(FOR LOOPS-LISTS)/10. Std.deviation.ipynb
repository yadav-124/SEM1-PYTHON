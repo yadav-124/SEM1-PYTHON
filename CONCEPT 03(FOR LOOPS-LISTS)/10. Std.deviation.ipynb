{
 "cells": [
  {
   "cell_type": "markdown",
   "metadata": {},
   "source": [
    "Given a list of numbers, find out the mean and standard deviation."
   ]
  },
  {
   "cell_type": "code",
   "execution_count": 2,
   "metadata": {},
   "outputs": [
    {
     "data": {
      "text/plain": [
       "2.2066660372607365"
      ]
     },
     "execution_count": 2,
     "metadata": {},
     "output_type": "execute_result"
    }
   ],
   "source": [
    "def find_sd(list1):\n",
    "    sum=0  #logic is what we are going to use the farmula of the standard deviation \n",
    "    sum1=0\n",
    "    l=len(list1)\n",
    "    for i in (list1):  #we  also need the average of the elements also so we will use the sum and len function to find them.\n",
    "        sum=sum+(i)\n",
    "        sum1=sum1+(i)*(i)\n",
    "    a=sum/l\n",
    "    sd=((sum1/l)-(a**2))**0.5\n",
    "    return sd\n",
    "find_sd([1,2.6,3,4.8,5,6,7,8])"
   ]
  }
 ],
 "metadata": {
  "kernelspec": {
   "display_name": "base",
   "language": "python",
   "name": "python3"
  },
  "language_info": {
   "codemirror_mode": {
    "name": "ipython",
    "version": 3
   },
   "file_extension": ".py",
   "mimetype": "text/x-python",
   "name": "python",
   "nbconvert_exporter": "python",
   "pygments_lexer": "ipython3",
   "version": "3.11.4"
  }
 },
 "nbformat": 4,
 "nbformat_minor": 2
}
