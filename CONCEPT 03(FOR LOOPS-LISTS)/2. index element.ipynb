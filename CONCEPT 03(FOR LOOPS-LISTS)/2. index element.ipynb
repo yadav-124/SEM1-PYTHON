{
 "cells": [
  {
   "cell_type": "markdown",
   "metadata": {},
   "source": [
    "Given a list of numbers, find out the index of another given number."
   ]
  },
  {
   "cell_type": "code",
   "execution_count": 2,
   "metadata": {},
   "outputs": [
    {
     "name": "stdout",
     "output_type": "stream",
     "text": [
      "the index of the number is 2\n",
      "the index of the number is 5\n"
     ]
    }
   ],
   "source": [
    "list1=[2,4,6,7,3,6,8,1]\n",
    "target_num=6 #we are giving the target name because we are going to find the index of this number in the list\n",
    "for i in range(len(list1)): #we will itrate over the range and we keep cheking the nmber  if got equal the the i will be index\n",
    "    if list1[i]==target_num:\n",
    "        print(\"the index of the number is\",i)"
   ]
  }
 ],
 "metadata": {
  "kernelspec": {
   "display_name": "base",
   "language": "python",
   "name": "python3"
  },
  "language_info": {
   "codemirror_mode": {
    "name": "ipython",
    "version": 3
   },
   "file_extension": ".py",
   "mimetype": "text/x-python",
   "name": "python",
   "nbconvert_exporter": "python",
   "pygments_lexer": "ipython3",
   "version": "3.11.4"
  }
 },
 "nbformat": 4,
 "nbformat_minor": 2
}
