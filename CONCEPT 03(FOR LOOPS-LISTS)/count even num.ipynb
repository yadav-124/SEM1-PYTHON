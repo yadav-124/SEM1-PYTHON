{
 "cells": [
  {
   "cell_type": "markdown",
   "metadata": {},
   "source": [
    "Given a list of numbers, find out how many even numbers it has."
   ]
  },
  {
   "cell_type": "code",
   "execution_count": 2,
   "metadata": {},
   "outputs": [
    {
     "name": "stdout",
     "output_type": "stream",
     "text": [
      "[2, 4, 6, 8]\n",
      "the total number of the even number is: 4\n"
     ]
    }
   ],
   "source": [
    "list=[2,4,7,3,6,8,1,9]\n",
    "list1=[] #itrate on every number \n",
    "count=0 #intiate the count by 0 \n",
    "for i in list:  \n",
    "    if i%2==0: #firstly check if the number is even number then\n",
    "        list1.append(i)\n",
    "        count=count+1  #the count will be incresed by 1 every time.\n",
    "print(list1)\n",
    "print(\"the total number of the even number is:\",count)\n",
    "\n",
    "        \n"
   ]
  }
 ],
 "metadata": {
  "kernelspec": {
   "display_name": "base",
   "language": "python",
   "name": "python3"
  },
  "language_info": {
   "codemirror_mode": {
    "name": "ipython",
    "version": 3
   },
   "file_extension": ".py",
   "mimetype": "text/x-python",
   "name": "python",
   "nbconvert_exporter": "python",
   "pygments_lexer": "ipython3",
   "version": "3.11.4"
  }
 },
 "nbformat": 4,
 "nbformat_minor": 2
}
