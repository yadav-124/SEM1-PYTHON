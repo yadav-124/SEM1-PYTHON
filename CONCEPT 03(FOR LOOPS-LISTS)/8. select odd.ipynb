{
 "cells": [
  {
   "cell_type": "markdown",
   "metadata": {},
   "source": [
    "Given a list of numbers, find all the odd numbers in it."
   ]
  },
  {
   "cell_type": "code",
   "execution_count": 2,
   "metadata": {},
   "outputs": [
    {
     "data": {
      "text/plain": [
       "[7, 3, 1, 9]"
      ]
     },
     "execution_count": 2,
     "metadata": {},
     "output_type": "execute_result"
    }
   ],
   "source": [
    "def find_odd(list1):\n",
    "    list2=[]  #firstly create an empty list .\n",
    "    for i in list1:  #we will itrate through the list and check them by deviding by two.\n",
    "        if i%2!=0:  #if the remainder is not 0 then the number is odd\n",
    "            list2.append(i)   # the odd number would be appended in the list.\n",
    "    return list2\n",
    "list1=[2,4,7,3,6,8,1,9]\n",
    "find_odd(list1)"
   ]
  }
 ],
 "metadata": {
  "kernelspec": {
   "display_name": "base",
   "language": "python",
   "name": "python3"
  },
  "language_info": {
   "codemirror_mode": {
    "name": "ipython",
    "version": 3
   },
   "file_extension": ".py",
   "mimetype": "text/x-python",
   "name": "python",
   "nbconvert_exporter": "python",
   "pygments_lexer": "ipython3",
   "version": "3.11.4"
  }
 },
 "nbformat": 4,
 "nbformat_minor": 2
}
