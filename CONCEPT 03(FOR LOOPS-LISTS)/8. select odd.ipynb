{
 "cells": [
  {
   "cell_type": "markdown",
   "metadata": {},
   "source": [
    "Given a list of numbers, find all the odd numbers in it."
   ]
  },
  {
   "cell_type": "code",
   "execution_count": 1,
   "metadata": {},
   "outputs": [
    {
     "name": "stdout",
     "output_type": "stream",
     "text": [
      "[7, 3, 1, 9]\n"
     ]
    }
   ],
   "source": [
    "list=[2,4,7,3,6,8,1,9]\n",
    "list1=[]  #firstly create an empty list .\n",
    "for i in list:  #we will itrate through the list and check them by deviding by two.\n",
    "    if i%2!=0:  #if the remainder is not 0 then the number is odd\n",
    "        list1.append(i)   # the odd number would be appended in the list.\n",
    "print(list1)"
   ]
  }
 ],
 "metadata": {
  "kernelspec": {
   "display_name": "base",
   "language": "python",
   "name": "python3"
  },
  "language_info": {
   "codemirror_mode": {
    "name": "ipython",
    "version": 3
   },
   "file_extension": ".py",
   "mimetype": "text/x-python",
   "name": "python",
   "nbconvert_exporter": "python",
   "pygments_lexer": "ipython3",
   "version": "3.11.4"
  }
 },
 "nbformat": 4,
 "nbformat_minor": 2
}
