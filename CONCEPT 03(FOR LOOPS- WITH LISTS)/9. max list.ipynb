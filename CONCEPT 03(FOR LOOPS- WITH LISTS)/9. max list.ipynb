{
 "cells": [
  {
   "cell_type": "markdown",
   "metadata": {},
   "source": [
    "Given a list of numbers, find out the maximum number."
   ]
  },
  {
   "cell_type": "code",
   "execution_count": 1,
   "metadata": {},
   "outputs": [
    {
     "data": {
      "text/plain": [
       "10"
      ]
     },
     "execution_count": 1,
     "metadata": {},
     "output_type": "execute_result"
    }
   ],
   "source": [
    "def find_maxnum(list1):\n",
    "    l=len(list1)\n",
    "    if l==0: #if the length of the list is 0 then no element will be there .\n",
    "        print(\"there is no element is in the list\")\n",
    "    else:\n",
    "        max_num=list1[0] #logic is that we will assign a base number from the list and we will itrate in the elements in \n",
    "        for i in list1:  # the list as the greter number will keep finding we will be chsnging the base number to that number\n",
    "            if i>max_num:\n",
    "                max_num=i  #the lst base number which will be greater will be the max of the list\n",
    "        return max_num\n",
    "list1=[10,4,9,7,3,6,8,1]\n",
    "find_maxnum(list1)"
   ]
  }
 ],
 "metadata": {
  "kernelspec": {
   "display_name": "base",
   "language": "python",
   "name": "python3"
  },
  "language_info": {
   "codemirror_mode": {
    "name": "ipython",
    "version": 3
   },
   "file_extension": ".py",
   "mimetype": "text/x-python",
   "name": "python",
   "nbconvert_exporter": "python",
   "pygments_lexer": "ipython3",
   "version": "3.11.4"
  }
 },
 "nbformat": 4,
 "nbformat_minor": 2
}
