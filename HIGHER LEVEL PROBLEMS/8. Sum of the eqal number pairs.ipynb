{
 "cells": [
  {
   "cell_type": "markdown",
   "metadata": {},
   "source": [
    "\n",
    "Given a list of integers, find the sum of all pairs of integers in the list that are equal.\n"
   ]
  },
  {
   "cell_type": "code",
   "execution_count": 1,
   "metadata": {},
   "outputs": [
    {
     "name": "stdout",
     "output_type": "stream",
     "text": [
      "[1, 3, 2, 5]\n",
      "the sum of all pairs is 22\n"
     ]
    }
   ],
   "source": [
    "list1=[1,3,2,4,1,5,3,6,5,2,7,]\n",
    "l=len(list1)\n",
    "list2=[]\n",
    "for i in range(l): #firstly we take a number from the list .\n",
    "    for j in range(i+1,l): # and check from the next number to the last number of the  list if any \n",
    "        if list1[i]==list1[j]: # two got equal then \n",
    "            list2.append(list1[i]) #one number will be added in the list\n",
    "print(list2)\n",
    "print(\"the sum of all pairs is\",2*(sum(list2)))  # for getting the sum of the pairs we just multiplyed the sum of, \n",
    "#the selected numbers by 2 to get the requared.\n",
    "\n",
    "       "
   ]
  }
 ],
 "metadata": {
  "kernelspec": {
   "display_name": "base",
   "language": "python",
   "name": "python3"
  },
  "language_info": {
   "codemirror_mode": {
    "name": "ipython",
    "version": 3
   },
   "file_extension": ".py",
   "mimetype": "text/x-python",
   "name": "python",
   "nbconvert_exporter": "python",
   "pygments_lexer": "ipython3",
   "version": "3.11.4"
  }
 },
 "nbformat": 4,
 "nbformat_minor": 2
}
