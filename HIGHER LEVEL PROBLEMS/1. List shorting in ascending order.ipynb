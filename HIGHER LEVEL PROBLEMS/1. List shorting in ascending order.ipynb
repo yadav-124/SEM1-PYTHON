{
 "cells": [
  {
   "cell_type": "markdown",
   "metadata": {},
   "source": [
    "Given a list of numbers, sort it in ascending order."
   ]
  },
  {
   "cell_type": "code",
   "execution_count": 1,
   "metadata": {},
   "outputs": [
    {
     "name": "stdout",
     "output_type": "stream",
     "text": [
      "[1, 2, 2, 3, 4, 5, 6, 6, 8]\n"
     ]
    }
   ],
   "source": [
    "numbers=[1,4,3,6,2,8,5,6,2]\n",
    "n=len(numbers) # it will create the length  of the list\n",
    "for i in range(n): # firstly it will take one number in the loop \n",
    "    for j in range(0,n-i-1): # then it will check from the next number and every time.\n",
    "        if numbers[j]>numbers[j+1]: # if the next number coming is greater than the before\n",
    "            numbers[j],numbers[j+1]=numbers[j+1],numbers[j] # it will swap the order of the  numbers\n",
    "print(numbers)"
   ]
  }
 ],
 "metadata": {
  "kernelspec": {
   "display_name": "base",
   "language": "python",
   "name": "python3"
  },
  "language_info": {
   "codemirror_mode": {
    "name": "ipython",
    "version": 3
   },
   "file_extension": ".py",
   "mimetype": "text/x-python",
   "name": "python",
   "nbconvert_exporter": "python",
   "pygments_lexer": "ipython3",
   "version": "3.11.4"
  }
 },
 "nbformat": 4,
 "nbformat_minor": 2
}
