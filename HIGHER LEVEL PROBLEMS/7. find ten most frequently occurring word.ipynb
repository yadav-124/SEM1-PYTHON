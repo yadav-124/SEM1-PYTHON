{
 "cells": [
  {
   "cell_type": "markdown",
   "metadata": {},
   "source": [
    "Read in a text file and find the 10 most frequently occurring words in the file."
   ]
  },
  {
   "cell_type": "code",
   "execution_count": 8,
   "metadata": {},
   "outputs": [
    {
     "name": "stdout",
     "output_type": "stream",
     "text": [
      "[('banana', 10), ('tom', 9), ('kiwi', 6), ('sarah', 5), ('pear', 5), ('john', 4), ('eva', 3), ('orange', 3), ('broccoli', 3), ('grape', 3)]\n"
     ]
    }
   ],
   "source": [
    "with open ('file.txt','r') as file:\n",
    "    dict1={}\n",
    "    for line in file:\n",
    "        words=line.split() # this is breacking my text file seperatly on the basis of space\n",
    "        for word in words:\n",
    "            word=word.strip('.,!?').lower() # remove these extra symbols\n",
    "            if word in dict1:  # formation of a dictionary of the words and its count\n",
    "                dict1[word]+=1\n",
    "            else:\n",
    "                dict1[word]=1\n",
    "    sorted_word=sorted(dict1.items(),key=lambda x:x[1],reverse=True) # this is converting\n",
    "    # the dict into the list containg tupple of word and its count in decending order of frequency\n",
    "    # we are reverse because we want 10 most occuring words\n",
    "    top_10_words=sorted_word[:10]\n",
    "    print(top_10_words)"
   ]
  }
 ],
 "metadata": {
  "kernelspec": {
   "display_name": "base",
   "language": "python",
   "name": "python3"
  },
  "language_info": {
   "codemirror_mode": {
    "name": "ipython",
    "version": 3
   },
   "file_extension": ".py",
   "mimetype": "text/x-python",
   "name": "python",
   "nbconvert_exporter": "python",
   "pygments_lexer": "ipython3",
   "version": "3.11.4"
  }
 },
 "nbformat": 4,
 "nbformat_minor": 2
}
