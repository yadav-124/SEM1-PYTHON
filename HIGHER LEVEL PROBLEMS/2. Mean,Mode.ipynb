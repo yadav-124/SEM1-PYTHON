{
 "cells": [
  {
   "cell_type": "markdown",
   "metadata": {},
   "source": [
    "Given a list of numbers, find out the median and mode."
   ]
  },
  {
   "cell_type": "code",
   "execution_count": 10,
   "metadata": {},
   "outputs": [
    {
     "name": "stdout",
     "output_type": "stream",
     "text": [
      "[1, 2, 2, 3, 4, 5, 6, 6, 6, 6, 8]\n",
      "the median of the list is 5\n"
     ]
    }
   ],
   "source": [
    "num=[1,4,3,6,6,6,2,8,5,6,2]\n",
    "n=len(num)\n",
    "for i in range(n): #for the median we will have to wright the list firstly in ascending order or decending order.\n",
    "    for j in range(0,n-i-1):\n",
    "        if num[j]>num[j+1]:\n",
    "            num[j],num[j+1]=num[j+1],num[j]\n",
    "print(num)\n",
    "if n%2==0: #we will have to devide in two parts because if the toatal numbers are even ,\n",
    "    m=(num[(int((n/2)-1))]+num[int(n/2)])/2  #then the farmula for the median is different\n",
    "else:\n",
    "    m=num[(int((n+1)/2)-1)]\n",
    "print(\"the median of the list is\",m)"
   ]
  },
  {
   "cell_type": "code",
   "execution_count": 9,
   "metadata": {},
   "outputs": [
    {
     "name": "stdout",
     "output_type": "stream",
     "text": [
      "the mode of the given data is : 2\n",
      "the mode of the given data is : 6\n"
     ]
    }
   ],
   "source": [
    "def find_mode(list1):\n",
    "    dict1={}\n",
    "    for i in num:\n",
    "        if i in dict1:\n",
    "            dict1[i]+=1\n",
    "        else:\n",
    "            dict1[i]=1\n",
    "    for key,value in dict1.items():\n",
    "        if value==max(dict1.values()):\n",
    "            print(\"the mode of the given data is :\",key)\n",
    "find_mode([1,4,3,2,2,6,6,6,2,8,5,6,2])\n"
   ]
  }
 ],
 "metadata": {
  "kernelspec": {
   "display_name": "base",
   "language": "python",
   "name": "python3"
  },
  "language_info": {
   "codemirror_mode": {
    "name": "ipython",
    "version": 3
   },
   "file_extension": ".py",
   "mimetype": "text/x-python",
   "name": "python",
   "nbconvert_exporter": "python",
   "pygments_lexer": "ipython3",
   "version": "3.11.4"
  }
 },
 "nbformat": 4,
 "nbformat_minor": 2
}
