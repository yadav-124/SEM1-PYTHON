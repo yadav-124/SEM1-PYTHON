{
 "cells": [
  {
   "cell_type": "markdown",
   "metadata": {},
   "source": [
    "Given a list of numbers, find out the median and mode."
   ]
  },
  {
   "cell_type": "code",
   "execution_count": null,
   "metadata": {},
   "outputs": [],
   "source": [
    "num=[1,4,3,6,2,8,5,6,2]\n",
    "n=len(num)\n",
    "for i in range(n): #for the median we will have to wright the list firstly in ascending order or decending order.\n",
    "    for j in range(0,n-i-1):\n",
    "        if num[j]>num[j+1]:\n",
    "            num[j],num[j+1]=num[j+1],num[j]\n",
    "print(num)\n",
    "if n%2==0: #we will have to devide in two parts because if the toatal numbers are even ,\n",
    "    m=(num[(int((n/2)-1))]+num[int(n/2)])/2  #then the farmula for the median is different\n",
    "else:\n",
    "    m=num[(int((n+1)/2)-1)]\n",
    "print(\"the median of the list is\",m)\n",
    "list1=[]\n",
    "list2=[]\n",
    "list3=[]\n",
    "dict1={}\n",
    "for i in num: #the logic foe getting the mode of the list is only that find those numbers which has the maximum frequency.\n",
    "    if not i in list1: # to get it we will have to firstly form a dictionary \n",
    "        list1.append(i) #the dictionary has key as the main number and the value as the frequency.\n",
    "for j in list1: \n",
    "    count=0\n",
    "    for k in num: #so that key  will be printed of which the value will be the maximum .\n",
    "        if k==j:\n",
    "            count=count+1\n",
    "            dict1[k]=count\n",
    "for key,value in dict1.items(): \n",
    "    list2.append(value)\n",
    "    list3.append(key)\n",
    "m=len(list2)\n",
    "for s in range(m):\n",
    "    if list2[s]==max(list2):\n",
    "        print(\"the mode of the numbers is\",list3[s])\n",
    "\n",
    "\n",
    "\n",
    "\n",
    "\n",
    "    \n",
    "      \n",
    "\n",
    "\n",
    "    \n",
    "\n",
    "    \n",
    "\n",
    "\n",
    "\n",
    "    \n",
    "\n"
   ]
  }
 ],
 "metadata": {
  "language_info": {
   "name": "python"
  }
 },
 "nbformat": 4,
 "nbformat_minor": 2
}
