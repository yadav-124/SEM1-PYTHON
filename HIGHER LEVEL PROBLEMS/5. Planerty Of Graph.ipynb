{
 "cells": [
  {
   "cell_type": "markdown",
   "metadata": {},
   "source": [
    "Determine whether a given graph is planar or not\n"
   ]
  },
  {
   "cell_type": "code",
   "execution_count": 1,
   "metadata": {},
   "outputs": [],
   "source": [
    "# We are going to use eulars eqation (V-E+F=2)\n",
    "#we need vertices \n",
    "# we also need of  corners points to make  the  edges\n",
    "def is_planer(V,E):\n",
    "    F=2-V+len(E)\n",
    "    if F>=0:\n",
    "        return \"the graph is planer\"\n",
    "    else:\n",
    "        return\"it is not planer\"\n"
   ]
  },
  {
   "cell_type": "code",
   "execution_count": 2,
   "metadata": {},
   "outputs": [
    {
     "data": {
      "text/plain": [
       "'the graph is planer'"
      ]
     },
     "execution_count": 2,
     "metadata": {},
     "output_type": "execute_result"
    }
   ],
   "source": [
    "V=4  #we are taking the vertices as 4\n",
    "E=[(1,2),(6,7),(8,9)] #we are checking for the three points only\n",
    "is_planer(V,E)"
   ]
  }
 ],
 "metadata": {
  "kernelspec": {
   "display_name": "base",
   "language": "python",
   "name": "python3"
  },
  "language_info": {
   "codemirror_mode": {
    "name": "ipython",
    "version": 3
   },
   "file_extension": ".py",
   "mimetype": "text/x-python",
   "name": "python",
   "nbconvert_exporter": "python",
   "pygments_lexer": "ipython3",
   "version": "3.11.4"
  }
 },
 "nbformat": 4,
 "nbformat_minor": 2
}
