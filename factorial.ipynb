{
 "cells": [
  {
   "cell_type": "markdown",
   "metadata": {},
   "source": [
    "Given a positive integer, find out its factorial."
   ]
  },
  {
   "cell_type": "code",
   "execution_count": 1,
   "metadata": {},
   "outputs": [
    {
     "name": "stdout",
     "output_type": "stream",
     "text": [
      "the number enterdis: 5\n",
      "the factorial of the given numberis 120\n"
     ]
    }
   ],
   "source": [
    "num=int(input(\"a positive integer here:\"))\n",
    "print(\"the number enterd is:\",num)\n",
    "product=1 #we weill have to initiate the product from 1 \n",
    "for i in range (num):\n",
    "    product=product*(i+1) #it will multiply all number in the range from 1 to that number ,and it is fatorial of the number.\n",
    "print(\"the factorial of the given numberis\",product)"
   ]
  }
 ],
 "metadata": {
  "kernelspec": {
   "display_name": "base",
   "language": "python",
   "name": "python3"
  },
  "language_info": {
   "codemirror_mode": {
    "name": "ipython",
    "version": 3
   },
   "file_extension": ".py",
   "mimetype": "text/x-python",
   "name": "python",
   "nbconvert_exporter": "python",
   "pygments_lexer": "ipython3",
   "version": "3.11.4"
  }
 },
 "nbformat": 4,
 "nbformat_minor": 2
}
