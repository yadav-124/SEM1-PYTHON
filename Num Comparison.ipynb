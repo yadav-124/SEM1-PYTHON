{
 "cells": [
  {
   "cell_type": "markdown",
   "metadata": {},
   "source": [
    "Given two integers ,find the larger one"
   ]
  },
  {
   "cell_type": "code",
   "execution_count": 1,
   "metadata": {},
   "outputs": [
    {
     "name": "stdout",
     "output_type": "stream",
     "text": [
      "[-5, -5]\n",
      "both are equal\n"
     ]
    }
   ],
   "source": [
    "a=int(input(\"enter the integer:\"))\n",
    "b=int(input(\"enter another integer\"))\n",
    "list_num=[]  #we created and empty list here to append the inputs by the user\n",
    "list_num.append(a)\n",
    "list_num.append(b)  #The inputs by the user are added in to the list with the append function\n",
    "print(list_num)\n",
    "if a>0 and b>0:  # First check for if the number is positive then this codition will apply\n",
    "    if a>b:\n",
    "        print(\"a is greater\")\n",
    "    elif a==b:\n",
    "        print(\"the entered numbers are equal\")\n",
    "    else:\n",
    "        print(\"b is greater\")\n",
    "elif a>0 and b<0:  #if one of them is negative then it is going to be less than the positive number.\n",
    "    print(\"a is greater\")\n",
    "elif a<0 and b>0:\n",
    "    print(\"b is greater\")\n",
    "else:\n",
    "    if -a>-b:   # if both are negative numbers then the number wiyh less magnitude will be greater.\n",
    "        print(\"b is greater\")\n",
    "    elif a==b:\n",
    "        print(\"both are equal numbers\")\n",
    "    else:\n",
    "        print(\"a is greater\")"
   ]
  }
 ],
 "metadata": {
  "kernelspec": {
   "display_name": "base",
   "language": "python",
   "name": "python3"
  },
  "language_info": {
   "codemirror_mode": {
    "name": "ipython",
    "version": 3
   },
   "file_extension": ".py",
   "mimetype": "text/x-python",
   "name": "python",
   "nbconvert_exporter": "python",
   "pygments_lexer": "ipython3",
   "version": "3.11.4"
  }
 },
 "nbformat": 4,
 "nbformat_minor": 2
}
