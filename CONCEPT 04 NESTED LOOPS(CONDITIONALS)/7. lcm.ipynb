{
 "cells": [
  {
   "cell_type": "markdown",
   "metadata": {},
   "source": [
    "Given two numbers, find its Least Common Multiple (LCM)."
   ]
  },
  {
   "cell_type": "code",
   "execution_count": 6,
   "metadata": {},
   "outputs": [
    {
     "name": "stdout",
     "output_type": "stream",
     "text": [
      "the LCM of the given numbers is 36\n"
     ]
    }
   ],
   "source": [
    "n1=9\n",
    "n2=12\n",
    "if n1==0 or n2==0:  # we know that we can not find the multiple of the 0 so the lcm of the pair having anyone as 0 is not defind.\n",
    "    print(\"the lcm is not defind\")\n",
    "else:\n",
    "    list1=[]\n",
    "    list2=[]\n",
    "    for i in range(1,(n1*n2)+1):  # we will find all the multiples upto the product of the two numbers . \n",
    "        x=i*n1\n",
    "        y=i*n2\n",
    "        list1.append(x)\n",
    "        list2.append(y)\n",
    "    list3=[]\n",
    "    for k in list1:\n",
    "        for m in list2:\n",
    "            if k==m: # the lowest common multiple among the two lists will be the requared answer\n",
    "                list3.append(k)\n",
    "    print(\"the LCM of the given numbers is\",min(list3))"
   ]
  }
 ],
 "metadata": {
  "kernelspec": {
   "display_name": "base",
   "language": "python",
   "name": "python3"
  },
  "language_info": {
   "codemirror_mode": {
    "name": "ipython",
    "version": 3
   },
   "file_extension": ".py",
   "mimetype": "text/x-python",
   "name": "python",
   "nbconvert_exporter": "python",
   "pygments_lexer": "ipython3",
   "version": "3.11.4"
  }
 },
 "nbformat": 4,
 "nbformat_minor": 2
}
