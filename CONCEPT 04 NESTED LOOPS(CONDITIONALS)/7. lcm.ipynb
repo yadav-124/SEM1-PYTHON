{
 "cells": [
  {
   "cell_type": "markdown",
   "metadata": {},
   "source": [
    "Given two numbers, find its Least Common Multiple (LCM)."
   ]
  },
  {
   "cell_type": "code",
   "execution_count": 21,
   "metadata": {},
   "outputs": [],
   "source": [
    "def find_lcm(n1,n2): #call the function by the find_lcm\n",
    "    max_num=max(n1,n2) # logic is to find the maximum number which is devisible by both the numbers\n",
    "    while True:  #if any of two is devisible by other then the greter will be the lcm \n",
    "        if max_num % n1==0 and max_num % n2==0:\n",
    "            lcm=max_num\n",
    "            break\n",
    "        max_num += 1 #if not found in the given numbers then it will check one by one increasing the  max number .\n",
    "    return lcm\n",
    "    \n"
   ]
  },
  {
   "cell_type": "code",
   "execution_count": 22,
   "metadata": {},
   "outputs": [
    {
     "data": {
      "text/plain": [
       "36"
      ]
     },
     "execution_count": 22,
     "metadata": {},
     "output_type": "execute_result"
    }
   ],
   "source": [
    "n1=18\n",
    "n2=36\n",
    "find_lcm(n1,n2)"
   ]
  }
 ],
 "metadata": {
  "kernelspec": {
   "display_name": "base",
   "language": "python",
   "name": "python3"
  },
  "language_info": {
   "codemirror_mode": {
    "name": "ipython",
    "version": 3
   },
   "file_extension": ".py",
   "mimetype": "text/x-python",
   "name": "python",
   "nbconvert_exporter": "python",
   "pygments_lexer": "ipython3",
   "version": "3.11.4"
  }
 },
 "nbformat": 4,
 "nbformat_minor": 2
}
