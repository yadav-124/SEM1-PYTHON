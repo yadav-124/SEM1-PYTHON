{
 "cells": [
  {
   "cell_type": "markdown",
   "metadata": {},
   "source": [
    "Given a list of integers, find all pairs of integers in the list whose sum is zero."
   ]
  },
  {
   "cell_type": "code",
   "execution_count": 1,
   "metadata": {},
   "outputs": [
    {
     "data": {
      "text/plain": [
       "[(2, -2), (3, -3), (4, -4), (0, 0)]"
      ]
     },
     "execution_count": 1,
     "metadata": {},
     "output_type": "execute_result"
    }
   ],
   "source": [
    "def find_eqaul(list2):\n",
    "    pair = []\n",
    "    l= len(list2)\n",
    "    for i in range(l): #logic is first we seleact  one number from the list and then we \n",
    "        for j in range(i+1, l): # itrate from the next number to whole list\n",
    "            if list2[i]+list2[j] ==0: #and if the sum of  both number is 0 then we take them and append in the pair list\n",
    "                pair.append((list2[i] , list2[j]))\n",
    "    return pair\n",
    "find_eqaul([2,3,-2,-5,4,-3,-4,6,7,0,0])\n"
   ]
  }
 ],
 "metadata": {
  "kernelspec": {
   "display_name": "base",
   "language": "python",
   "name": "python3"
  },
  "language_info": {
   "codemirror_mode": {
    "name": "ipython",
    "version": 3
   },
   "file_extension": ".py",
   "mimetype": "text/x-python",
   "name": "python",
   "nbconvert_exporter": "python",
   "pygments_lexer": "ipython3",
   "version": "3.11.4"
  }
 },
 "nbformat": 4,
 "nbformat_minor": 2
}
