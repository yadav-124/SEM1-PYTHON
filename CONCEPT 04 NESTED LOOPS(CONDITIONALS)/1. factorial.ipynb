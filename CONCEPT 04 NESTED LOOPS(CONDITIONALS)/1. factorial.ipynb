{
 "cells": [
  {
   "cell_type": "markdown",
   "metadata": {},
   "source": [
    "Given a list of positive integers, find the factorial of all the numbers."
   ]
  },
  {
   "cell_type": "code",
   "execution_count": 3,
   "metadata": {},
   "outputs": [
    {
     "name": "stdout",
     "output_type": "stream",
     "text": [
      "factorial of the 2 is: 2\n",
      "factorial of the 4 is: 24\n",
      "factorial of the 6 is: 720\n"
     ]
    }
   ],
   "source": [
    "list1=[2,4,6]\n",
    "for num in list1: #itrate over the list and select one number \n",
    "    fact_num=1\n",
    "    for x in range (1,num): #considering the number selected it will multiply all the numbers upto that number and that is \n",
    "        fact_num=fact_num*(x+1) #alled the fatorial\n",
    "    print(\"factorial of the\",num,\"is:\",fact_num)"
   ]
  }
 ],
 "metadata": {
  "kernelspec": {
   "display_name": "base",
   "language": "python",
   "name": "python3"
  },
  "language_info": {
   "codemirror_mode": {
    "name": "ipython",
    "version": 3
   },
   "file_extension": ".py",
   "mimetype": "text/x-python",
   "name": "python",
   "nbconvert_exporter": "python",
   "pygments_lexer": "ipython3",
   "version": "3.11.4"
  }
 },
 "nbformat": 4,
 "nbformat_minor": 2
}
