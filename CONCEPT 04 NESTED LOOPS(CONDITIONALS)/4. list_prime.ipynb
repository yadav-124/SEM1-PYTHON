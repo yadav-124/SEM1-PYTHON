{
 "cells": [
  {
   "cell_type": "markdown",
   "metadata": {},
   "source": [
    "Given a positive integer, find out all prime numbers from 1 up to this number."
   ]
  },
  {
   "cell_type": "code",
   "execution_count": 1,
   "metadata": {},
   "outputs": [
    {
     "name": "stdout",
     "output_type": "stream",
     "text": [
      "[2, 3, 5, 7, 11, 13, 17, 19, 23, 29, 31, 37, 41, 43, 47, 53, 59, 61, 67, 71, 73, 79, 83, 89, 97]\n"
     ]
    }
   ],
   "source": [
    "n=100\n",
    "list_primes=[]\n",
    "for i in range(2,n+1): #as we are aware that  1 is not prime so we are not taking in the cosideration here.\n",
    "    a=0\n",
    "    n=int(i**0.5) #logic is to check that how many factors are there when devided by the all numbers in the range\n",
    "    for j in range(2,n+1): \n",
    "        if i%j==0:  #if the remainder is 0 then the i is the factor  of the number \n",
    "            a+=1\n",
    "    if a==0: #if the number of the factors is  0  then  it will be prime. \n",
    "        list_primes.append(i)\n",
    "print(list_primes)\n",
    "\n"
   ]
  }
 ],
 "metadata": {
  "kernelspec": {
   "display_name": "base",
   "language": "python",
   "name": "python3"
  },
  "language_info": {
   "codemirror_mode": {
    "name": "ipython",
    "version": 3
   },
   "file_extension": ".py",
   "mimetype": "text/x-python",
   "name": "python",
   "nbconvert_exporter": "python",
   "pygments_lexer": "ipython3",
   "version": "3.11.4"
  }
 },
 "nbformat": 4,
 "nbformat_minor": 2
}
