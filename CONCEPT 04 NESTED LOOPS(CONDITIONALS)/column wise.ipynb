{
 "cells": [
  {
   "cell_type": "markdown",
   "metadata": {},
   "source": [
    "2.column wise"
   ]
  },
  {
   "cell_type": "code",
   "execution_count": 1,
   "metadata": {},
   "outputs": [
    {
     "name": "stdout",
     "output_type": "stream",
     "text": [
      "130\n",
      "384\n",
      "566\n"
     ]
    }
   ],
   "source": [
    "m=[[1,3,5],[3,8,6],[0,4,6]]\n",
    "for j in range(len(m[0])): # first we will only itrate on the first element of the every list in nested lists and then so on.\n",
    "    col_string=\"\" #initition in by a empty string as we append the selected element as row in this string\n",
    "    for i in range(len(m)):  \n",
    "        col_string+=str(m[i][j])+\"\" #it will change to the next  row when the three elements will be completed .\n",
    "    print(col_string)\n",
    "\n",
    "\n",
    "      "
   ]
  }
 ],
 "metadata": {
  "kernelspec": {
   "display_name": "base",
   "language": "python",
   "name": "python3"
  },
  "language_info": {
   "codemirror_mode": {
    "name": "ipython",
    "version": 3
   },
   "file_extension": ".py",
   "mimetype": "text/x-python",
   "name": "python",
   "nbconvert_exporter": "python",
   "pygments_lexer": "ipython3",
   "version": "3.11.4"
  }
 },
 "nbformat": 4,
 "nbformat_minor": 2
}
