{
 "cells": [
  {
   "cell_type": "markdown",
   "metadata": {},
   "source": [
    "Given two numbers, find its Greatest Common Divisor (Divisor)."
   ]
  },
  {
   "cell_type": "code",
   "execution_count": 10,
   "metadata": {},
   "outputs": [
    {
     "name": "stdout",
     "output_type": "stream",
     "text": [
      "the HCF of the given numbers 7\n"
     ]
    }
   ],
   "source": [
    "n1=14\n",
    "n2=7\n",
    "if n1==0 and n2!=0: # we know that if nayone of the two will be zero then the hcf will be the other number\n",
    "    print(\"the hcf is:\",n2)\n",
    "elif n1!=0 and n2==0:\n",
    "    print(\"the hcf is:\",n1)\n",
    "elif n1==0 and n2==0:  # if both the number are equal to zero then the hcf will be equal to 0\n",
    "    print(\"the hcf is:0\")\n",
    "else:   # otherwise we will find all the devisior of both the numbers in different lists and compare the devisior \n",
    "    #and the maximum of the common devisior will be the hcf\n",
    "    list1=[]\n",
    "    list2=[]\n",
    "    for i in range(1,n1+1):\n",
    "        if n1%i==0:\n",
    "            list1.append(i)\n",
    "    for j in range(1,n2+1):\n",
    "        if n2%j==0:\n",
    "            list2.append(j)\n",
    "    list3=[]\n",
    "    for k in (list1):\n",
    "        if k in list2:\n",
    "            list3.append(k)\n",
    "    print(\"the HCF of the given numbers\",max(list3))"
   ]
  }
 ],
 "metadata": {
  "kernelspec": {
   "display_name": "base",
   "language": "python",
   "name": "python3"
  },
  "language_info": {
   "codemirror_mode": {
    "name": "ipython",
    "version": 3
   },
   "file_extension": ".py",
   "mimetype": "text/x-python",
   "name": "python",
   "nbconvert_exporter": "python",
   "pygments_lexer": "ipython3",
   "version": "3.11.4"
  }
 },
 "nbformat": 4,
 "nbformat_minor": 2
}
