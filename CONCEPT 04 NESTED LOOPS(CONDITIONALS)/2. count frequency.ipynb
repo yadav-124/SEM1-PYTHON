{
 "cells": [
  {
   "cell_type": "markdown",
   "metadata": {},
   "source": [
    "Given a list of numbers, find out how many times each number occurs in the list"
   ]
  },
  {
   "cell_type": "code",
   "execution_count": 1,
   "metadata": {},
   "outputs": [
    {
     "name": "stdout",
     "output_type": "stream",
     "text": [
      "1 occurs 2 times\n",
      "2 occurs 2 times\n",
      "3 occurs 2 times\n",
      "4 occurs 2 times\n",
      "5 occurs 1 times\n",
      "6 occurs 3 times\n",
      "7 occurs 3 times\n",
      "8 occurs 3 times\n"
     ]
    }
   ],
   "source": [
    "list1=[1,2,3,4,5,3,2,1,4,6,7,8,7,6,8,6,7,8]\n",
    "list2=[]\n",
    "for i in list1: #logic is we will take one number from the list and append inthe new list is it is not in it already\n",
    "    if not i in list2: #if it is there then in the second loop we will increase a count by one \n",
    "        list2.append(i) #we will keep increasing the count by one every time\n",
    "for j in list2:\n",
    "    count=0\n",
    "    for k in list1:\n",
    "        if j==k:\n",
    "            count+=1\n",
    "    print(j,\"occurs\", count,\"times\")"
   ]
  }
 ],
 "metadata": {
  "kernelspec": {
   "display_name": "base",
   "language": "python",
   "name": "python3"
  },
  "language_info": {
   "codemirror_mode": {
    "name": "ipython",
    "version": 3
   },
   "file_extension": ".py",
   "mimetype": "text/x-python",
   "name": "python",
   "nbconvert_exporter": "python",
   "pygments_lexer": "ipython3",
   "version": "3.11.4"
  }
 },
 "nbformat": 4,
 "nbformat_minor": 2
}
