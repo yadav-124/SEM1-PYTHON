{
 "cells": [
  {
   "cell_type": "markdown",
   "metadata": {},
   "source": [
    "Given two numbers, find its Greatest Common Divisor (Divisor)."
   ]
  },
  {
   "cell_type": "code",
   "execution_count": 3,
   "metadata": {},
   "outputs": [
    {
     "name": "stdout",
     "output_type": "stream",
     "text": [
      "the HCF of the given numbers 1\n"
     ]
    }
   ],
   "source": [
    "n1=1\n",
    "n2=7\n",
    "list1=[]  #  we will find all the devisior of both the numbers in different lists and compare the devisior \n",
    "    #and the maximum of the common devisior will be the hcf\n",
    "list2=[]\n",
    "for i in range(1,n1+1):\n",
    "    if n1%i==0:\n",
    "        list1.append(i)\n",
    "for j in range(1,n2+1):\n",
    "    if n2%j==0:\n",
    "        list2.append(j)\n",
    "list3=[]\n",
    "for k in (list1):\n",
    "    if k in list2:\n",
    "        list3.append(k)\n",
    "print(\"the HCF of the given numbers\",max(list3))"
   ]
  }
 ],
 "metadata": {
  "kernelspec": {
   "display_name": "base",
   "language": "python",
   "name": "python3"
  },
  "language_info": {
   "codemirror_mode": {
    "name": "ipython",
    "version": 3
   },
   "file_extension": ".py",
   "mimetype": "text/x-python",
   "name": "python",
   "nbconvert_exporter": "python",
   "pygments_lexer": "ipython3",
   "version": "3.11.4"
  }
 },
 "nbformat": 4,
 "nbformat_minor": 2
}
