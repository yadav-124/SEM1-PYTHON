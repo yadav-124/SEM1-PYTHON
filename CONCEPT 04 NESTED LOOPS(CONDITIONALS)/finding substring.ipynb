{
 "cells": [
  {
   "cell_type": "markdown",
   "metadata": {},
   "source": [
    "Given a string input, find out if it contains a particular substring."
   ]
  },
  {
   "cell_type": "code",
   "execution_count": 3,
   "metadata": {},
   "outputs": [
    {
     "name": "stdout",
     "output_type": "stream",
     "text": [
      "entered string is: change is the rool of the nature\n",
      "entered substring is: change\n",
      "particular substring is: change\n"
     ]
    }
   ],
   "source": [
    "string_text=input(\"enter a text here:\") #some enterd text will firstly converted into the string\n",
    "print(\"entered string is:\",string_text)\n",
    "substring=input(\"enter another text here:\") #take another string named substring and \n",
    "print(\"entered substring is:\",substring)  #we will itrate over the strin_text and if both are same then we will print ir as yes\n",
    "if substring in string_text:\n",
    "    print(\"particular substring is:\",substring)\n",
    "else:\n",
    "    print(\"no particular string present\")\n",
    "    "
   ]
  }
 ],
 "metadata": {
  "kernelspec": {
   "display_name": "base",
   "language": "python",
   "name": "python3"
  },
  "language_info": {
   "codemirror_mode": {
    "name": "ipython",
    "version": 3
   },
   "file_extension": ".py",
   "mimetype": "text/x-python",
   "name": "python",
   "nbconvert_exporter": "python",
   "pygments_lexer": "ipython3",
   "version": "3.11.4"
  }
 },
 "nbformat": 4,
 "nbformat_minor": 2
}
