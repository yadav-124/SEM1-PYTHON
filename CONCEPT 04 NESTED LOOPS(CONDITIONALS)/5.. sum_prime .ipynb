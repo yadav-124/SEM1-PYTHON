{
 "cells": [
  {
   "cell_type": "markdown",
   "metadata": {},
   "source": [
    "Given a positive integers, find out the sum of all prime numbers from 1 up to this number."
   ]
  },
  {
   "cell_type": "code",
   "execution_count": 2,
   "metadata": {},
   "outputs": [
    {
     "data": {
      "text/plain": [
       "17"
      ]
     },
     "execution_count": 2,
     "metadata": {},
     "output_type": "execute_result"
    }
   ],
   "source": [
    "def find_sum(n):\n",
    "    prime_sum=0\n",
    "    for i in range (2,n+1):\n",
    "        a=0\n",
    "        k=int(i**0.5)\n",
    "        for j in range(2,k+1):\n",
    "            if i%j==0:\n",
    "                a+=1\n",
    "        if a==0:\n",
    "            prime_sum+=i\n",
    "    return prime_sum\n",
    "find_sum(10)"
   ]
  }
 ],
 "metadata": {
  "kernelspec": {
   "display_name": "base",
   "language": "python",
   "name": "python3"
  },
  "language_info": {
   "codemirror_mode": {
    "name": "ipython",
    "version": 3
   },
   "file_extension": ".py",
   "mimetype": "text/x-python",
   "name": "python",
   "nbconvert_exporter": "python",
   "pygments_lexer": "ipython3",
   "version": "3.11.4"
  }
 },
 "nbformat": 4,
 "nbformat_minor": 2
}
