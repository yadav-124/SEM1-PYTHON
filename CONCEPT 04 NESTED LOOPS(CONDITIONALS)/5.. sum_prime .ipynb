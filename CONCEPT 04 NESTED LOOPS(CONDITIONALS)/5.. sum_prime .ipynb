{
 "cells": [
  {
   "cell_type": "markdown",
   "metadata": {},
   "source": [
    "Given a positive integers, find out the sum of all prime numbers from 1 up to this number."
   ]
  },
  {
   "cell_type": "code",
   "execution_count": 1,
   "metadata": {},
   "outputs": [
    {
     "name": "stdout",
     "output_type": "stream",
     "text": [
      "[2, 3, 5, 7]\n",
      "the sum of all prime numbers is 17\n"
     ]
    }
   ],
   "source": [
    "n=10\n",
    "list_primes=[]  # first we will checking the prime number condition by  checking the number of the devisior .\n",
    "for num in range(1,n+1): # if the number of the devisior is only 2 then it will be the prime number\n",
    "    a=0\n",
    "    for i in range(1,n+1):  #prime number will be appended in the seprate list\n",
    "        if num%i==0:\n",
    "            a+=1\n",
    "    if a==2:\n",
    "        list_primes.append(num) #for grtting the sum we will itrate through the elements and adding one by one .\n",
    "print(list_primes)                 #with the initiation of 0\n",
    "sum=0\n",
    "for k in (list_primes):\n",
    "    sum=sum+k\n",
    "print(\"the sum of all prime numbers is\",sum)\n"
   ]
  }
 ],
 "metadata": {
  "kernelspec": {
   "display_name": "base",
   "language": "python",
   "name": "python3"
  },
  "language_info": {
   "codemirror_mode": {
    "name": "ipython",
    "version": 3
   },
   "file_extension": ".py",
   "mimetype": "text/x-python",
   "name": "python",
   "nbconvert_exporter": "python",
   "pygments_lexer": "ipython3",
   "version": "3.11.4"
  }
 },
 "nbformat": 4,
 "nbformat_minor": 2
}
