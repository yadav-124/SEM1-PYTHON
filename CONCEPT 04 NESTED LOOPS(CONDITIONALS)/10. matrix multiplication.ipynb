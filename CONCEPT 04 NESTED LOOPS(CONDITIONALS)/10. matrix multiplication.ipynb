{
 "cells": [
  {
   "cell_type": "markdown",
   "metadata": {},
   "source": [
    "Given two 3x3 matrices with values stored in two lists of length 9, find their product."
   ]
  },
  {
   "cell_type": "code",
   "execution_count": 1,
   "metadata": {},
   "outputs": [
    {
     "name": "stdout",
     "output_type": "stream",
     "text": [
      "[37, 29, 69]\n",
      "[61, 53, 102]\n",
      "[86, 93, 117]\n"
     ]
    }
   ],
   "source": [
    "M1=[[2,3,4],[4,3,7],[9,8,2]]  # here the lists are the rows of the matrix\n",
    "M2=[[6,9,3],[3,1,9],[4,2,9]]\n",
    "result=[[0,0,0],[0,0,0],[0,0,0]]\n",
    "for i in range(3): # here every where the len is 3 as order is 3X3 so we written as 3 .\n",
    "    for j in range (3):\n",
    "        for k in range(3):\n",
    "            result[i][j]=result[i][j]+M1[i][k]*M2[k][j]  # perform the multiplication by every element of the row to \n",
    "for r in result: #the every elementof the column and add it \n",
    "    print(r)"
   ]
  },
  {
   "cell_type": "code",
   "execution_count": null,
   "metadata": {},
   "outputs": [],
   "source": [
    "M1=[2,3,4,4,3,7,9,8,2]\n",
    "M2=[6,9,3,3,1,9,4,2,9]\n",
    "for i in range()"
   ]
  }
 ],
 "metadata": {
  "kernelspec": {
   "display_name": "base",
   "language": "python",
   "name": "python3"
  },
  "language_info": {
   "codemirror_mode": {
    "name": "ipython",
    "version": 3
   },
   "file_extension": ".py",
   "mimetype": "text/x-python",
   "name": "python",
   "nbconvert_exporter": "python",
   "pygments_lexer": "ipython3",
   "version": "3.11.4"
  }
 },
 "nbformat": 4,
 "nbformat_minor": 2
}
