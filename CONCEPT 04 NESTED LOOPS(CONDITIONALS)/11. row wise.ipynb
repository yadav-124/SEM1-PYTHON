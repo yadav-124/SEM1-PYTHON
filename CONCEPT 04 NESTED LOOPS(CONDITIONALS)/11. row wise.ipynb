{
 "cells": [
  {
   "cell_type": "markdown",
   "metadata": {},
   "source": [
    "Print the elements of  a matrix first row wise and then column wise (1.Row wise)"
   ]
  },
  {
   "cell_type": "code",
   "execution_count": 1,
   "metadata": {},
   "outputs": [
    {
     "name": "stdout",
     "output_type": "stream",
     "text": [
      "1 3 5 \n",
      "3 8 6 \n",
      "0 4 6 \n"
     ]
    }
   ],
   "source": [
    "m=[[1,3,5],[3,8,6],[0,4,6]]\n",
    "for i in m:\n",
    "    row=\"\" #we will take the number of the lists as the string \n",
    "    for j in i: #we will change the array to next line when the inner list 1  printed and so on.\n",
    "        row+=str(j)+\" \"\n",
    "    print(row)\n",
    "        \n",
    "           \n",
    "           \n",
    "    \n",
    "       "
   ]
  }
 ],
 "metadata": {
  "kernelspec": {
   "display_name": "base",
   "language": "python",
   "name": "python3"
  },
  "language_info": {
   "codemirror_mode": {
    "name": "ipython",
    "version": 3
   },
   "file_extension": ".py",
   "mimetype": "text/x-python",
   "name": "python",
   "nbconvert_exporter": "python",
   "pygments_lexer": "ipython3",
   "version": "3.11.4"
  }
 },
 "nbformat": 4,
 "nbformat_minor": 2
}
