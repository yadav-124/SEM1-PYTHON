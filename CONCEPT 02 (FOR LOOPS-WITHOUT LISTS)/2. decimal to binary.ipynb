{
 "cells": [
  {
   "cell_type": "markdown",
   "metadata": {},
   "source": [
    "Given a positive integer, convert it into binary, and vice-versa."
   ]
  },
  {
   "cell_type": "code",
   "execution_count": 6,
   "metadata": {},
   "outputs": [
    {
     "data": {
      "text/plain": [
       "138"
      ]
     },
     "execution_count": 6,
     "metadata": {},
     "output_type": "execute_result"
    }
   ],
   "source": [
    "def find_decimal(binary):\n",
    "    decimal=0\n",
    "    length=len(binary)  \n",
    "    for i in range(length):\n",
    "        if binary[length-i-1]=='1': # it will check if the present index is one then it will multiply by 2 to the power of same index\n",
    "            decimal+=2**i # it will keep to adding this \n",
    "    return decimal\n",
    "find_decimal(\"10001010\")"
   ]
  }
 ],
 "metadata": {
  "kernelspec": {
   "display_name": "base",
   "language": "python",
   "name": "python3"
  },
  "language_info": {
   "codemirror_mode": {
    "name": "ipython",
    "version": 3
   },
   "file_extension": ".py",
   "mimetype": "text/x-python",
   "name": "python",
   "nbconvert_exporter": "python",
   "pygments_lexer": "ipython3",
   "version": "3.11.4"
  }
 },
 "nbformat": 4,
 "nbformat_minor": 2
}
