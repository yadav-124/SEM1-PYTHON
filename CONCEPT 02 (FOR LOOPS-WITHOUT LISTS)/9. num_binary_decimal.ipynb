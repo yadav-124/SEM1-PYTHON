{
 "cells": [
  {
   "cell_type": "markdown",
   "metadata": {},
   "source": [
    "Binary to Decimal"
   ]
  },
  {
   "cell_type": "code",
   "execution_count": 14,
   "metadata": {},
   "outputs": [
    {
     "data": {
      "text/plain": [
       "138"
      ]
     },
     "execution_count": 14,
     "metadata": {},
     "output_type": "execute_result"
    }
   ],
   "source": [
    "def find_decimal(binary):  \n",
    "    decimal=0 \n",
    "    n=1\n",
    "    while binary!=0: # the logic for this conversion is take the digits seperatly and multiply them with the power raised to 2 \n",
    "        rem=binary%10  # but the power should start from 0 and keep increasing as the digits are changing\n",
    "        decimal+=rem*n  # thrn the sum of this all will give you a decimal number\n",
    "        binary=binary//10\n",
    "        n=n*2\n",
    "    return decimal\n",
    "find_decimal(10001010)\n",
    "\n",
    "        \n"
   ]
  },
  {
   "cell_type": "markdown",
   "metadata": {},
   "source": [
    "Decimal to Binary"
   ]
  },
  {
   "cell_type": "code",
   "execution_count": 13,
   "metadata": {},
   "outputs": [
    {
     "data": {
      "text/plain": [
       "10001010"
      ]
     },
     "execution_count": 13,
     "metadata": {},
     "output_type": "execute_result"
    }
   ],
   "source": [
    "def find_binary(decimal):\n",
    "    binary=0 \n",
    "    n=0\n",
    "    while decimal!=0:  # we will be deviding the number upto to that time as it is positive by 2\n",
    "        rem=decimal%2\n",
    "        binary+=rem*(10**n)  # to set the degits found by the devision we will decide the position of the digits by multiplying by 10\n",
    "        decimal=decimal//2   # raised to the power coresponding to the position of the digits\n",
    "        n=n+1\n",
    "        \n",
    "        \n",
    "    return binary\n",
    "find_binary(138)\n"
   ]
  }
 ],
 "metadata": {
  "kernelspec": {
   "display_name": "base",
   "language": "python",
   "name": "python3"
  },
  "language_info": {
   "codemirror_mode": {
    "name": "ipython",
    "version": 3
   },
   "file_extension": ".py",
   "mimetype": "text/x-python",
   "name": "python",
   "nbconvert_exporter": "python",
   "pygments_lexer": "ipython3",
   "version": "3.11.4"
  }
 },
 "nbformat": 4,
 "nbformat_minor": 2
}
