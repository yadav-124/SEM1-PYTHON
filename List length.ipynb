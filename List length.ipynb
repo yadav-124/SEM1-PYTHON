{
 "cells": [
  {
   "cell_type": "markdown",
   "metadata": {},
   "source": [
    "Given a list of numbers, find out its length"
   ]
  },
  {
   "cell_type": "code",
   "execution_count": 1,
   "metadata": {},
   "outputs": [
    {
     "name": "stdout",
     "output_type": "stream",
     "text": [
      "the length of  the list 8\n"
     ]
    }
   ],
   "source": [
    "list=[1,2,3,4,5,6,7,8]  # here we will itrate over the elements of the list and we does not  print the actual element here .\n",
    "length=0\n",
    "for i in (list):  #we will increase the number by one when we proceed on the elements in the list.\n",
    "    length=length+1 #this will add one every time when we itrate in the list\n",
    "print(\"the length of  the list\",length)"
   ]
  }
 ],
 "metadata": {
  "kernelspec": {
   "display_name": "base",
   "language": "python",
   "name": "python3"
  },
  "language_info": {
   "codemirror_mode": {
    "name": "ipython",
    "version": 3
   },
   "file_extension": ".py",
   "mimetype": "text/x-python",
   "name": "python",
   "nbconvert_exporter": "python",
   "pygments_lexer": "ipython3",
   "version": "3.11.4"
  }
 },
 "nbformat": 4,
 "nbformat_minor": 2
}
