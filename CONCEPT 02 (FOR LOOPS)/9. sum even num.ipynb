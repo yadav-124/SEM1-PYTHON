{
 "cells": [
  {
   "cell_type": "markdown",
   "metadata": {},
   "source": [
    "Given a positive integer, find out the sum of all even numbers from 2 up to this number"
   ]
  },
  {
   "cell_type": "code",
   "execution_count": 1,
   "metadata": {},
   "outputs": [
    {
     "name": "stdout",
     "output_type": "stream",
     "text": [
      "the entered number is: 6\n",
      "the sum of the odd numbers is 12\n"
     ]
    }
   ],
   "source": [
    "num=int(input(\"enter a positive number here:\"))\n",
    "print(\"the entered number is:\",num)\n",
    "sum_even=0 #initiate the sum with 0\n",
    "for i in range(2,num+1,2): #we will take the numbers from 2 with one number gap and absulatly these numbers are even\n",
    "    sum_even=sum_even+i\n",
    "print(\"the sum of the odd numbers is\",sum_even)"
   ]
  }
 ],
 "metadata": {
  "kernelspec": {
   "display_name": "base",
   "language": "python",
   "name": "python3"
  },
  "language_info": {
   "codemirror_mode": {
    "name": "ipython",
    "version": 3
   },
   "file_extension": ".py",
   "mimetype": "text/x-python",
   "name": "python",
   "nbconvert_exporter": "python",
   "pygments_lexer": "ipython3",
   "version": "3.11.4"
  }
 },
 "nbformat": 4,
 "nbformat_minor": 2
}
