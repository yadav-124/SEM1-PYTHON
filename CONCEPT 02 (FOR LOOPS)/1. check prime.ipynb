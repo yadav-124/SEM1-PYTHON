{
 "cells": [
  {
   "cell_type": "markdown",
   "metadata": {},
   "source": [
    "Given a positive integer, find out if it’s prime or not."
   ]
  },
  {
   "cell_type": "markdown",
   "metadata": {},
   "source": [
    "METHOD 01"
   ]
  },
  {
   "cell_type": "code",
   "execution_count": 1,
   "metadata": {},
   "outputs": [
    {
     "name": "stdout",
     "output_type": "stream",
     "text": [
      "the number for checking is: 5\n",
      "the number is the prime\n"
     ]
    }
   ],
   "source": [
    "num=int(input(\"enter the positive number here:\"))\n",
    "print(\"the number for checking is:\",num)\n",
    "a=0 #initiation of the number of the factors of the given number.\n",
    "for x in range (1,num+1): #divide the number by all the  numbers from 1 to that number to check if the number is devisible or not.\n",
    "    if num%x==0 :\n",
    "        a+=1 #if the number is devisible then the number of the factpr will goes on increasing \n",
    "if a==2: #if the number has factors more than the  number itself and one then the number is not prime.\n",
    "    print(\"the number is the prime\")\n",
    "else:\n",
    "    print(\"the number is not prime\")"
   ]
  },
  {
   "cell_type": "markdown",
   "metadata": {},
   "source": [
    "METHOD 02"
   ]
  },
  {
   "cell_type": "code",
   "execution_count": 5,
   "metadata": {},
   "outputs": [
    {
     "name": "stdout",
     "output_type": "stream",
     "text": [
      "the number for checking is: 2\n",
      "the number is the prime\n"
     ]
    }
   ],
   "source": [
    "num=int(input(\"enter the positive number here:\"))\n",
    "print(\"the number for checking is:\",num)\n",
    "if num==1: #we will have to check for the one seperatl as for it a=o but it is not a prime number .\n",
    "    print(\"it is not a prime number\")\n",
    "else:\n",
    "    a=0\n",
    "    for x in range (2,int(num**0.5)+1): # we will be check by deviding the given number by all numbers up to the square root.\n",
    "        if num%x==0:\n",
    "            a+=1 # we want to count the number of the factors if greater than than 2 but here the root of the 2 is less than 1 so when \n",
    "    if a==0:  #a=0 then it will be prime number\n",
    "        print(\"the number is the prime\")\n",
    "    else:\n",
    "        print(\"the number is not prime\")"
   ]
  },
  {
   "cell_type": "markdown",
   "metadata": {},
   "source": [
    "METHOD 03"
   ]
  },
  {
   "cell_type": "code",
   "execution_count": 3,
   "metadata": {},
   "outputs": [
    {
     "name": "stdout",
     "output_type": "stream",
     "text": [
      "the number for checking is: 1\n",
      "the number is not prime\n"
     ]
    }
   ],
   "source": [
    "num=int(input(\"enter the positive number here:\"))\n",
    "print(\"the number for checking is:\",num)\n",
    "a=0\n",
    "for x in range (1,int(num/2)+1): # we will be check by deviding the given number by all numbers up TO half of the numbers.\n",
    "     if num%x==0:\n",
    "        a+=1 # we want to count the number of the factors if  these are greater than one then the number is not prime.\n",
    "if a==1:\n",
    "    print(\"the number is the prime\")\n",
    "else:\n",
    "    print(\"the number is not prime\")"
   ]
  }
 ],
 "metadata": {
  "kernelspec": {
   "display_name": "base",
   "language": "python",
   "name": "python3"
  },
  "language_info": {
   "codemirror_mode": {
    "name": "ipython",
    "version": 3
   },
   "file_extension": ".py",
   "mimetype": "text/x-python",
   "name": "python",
   "nbconvert_exporter": "python",
   "pygments_lexer": "ipython3",
   "version": "3.11.4"
  }
 },
 "nbformat": 4,
 "nbformat_minor": 2
}
