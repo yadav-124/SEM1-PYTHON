{
 "cells": [
  {
   "cell_type": "markdown",
   "metadata": {},
   "source": [
    "Decimal to binary conversion "
   ]
  },
  {
   "cell_type": "code",
   "execution_count": 5,
   "metadata": {},
   "outputs": [
    {
     "data": {
      "text/plain": [
       "10001010"
      ]
     },
     "execution_count": 5,
     "metadata": {},
     "output_type": "execute_result"
    }
   ],
   "source": [
    "def find_binary(decimal):\n",
    "    binary=0  #the logic here is to devide the number by 2 every time and the quotient will be added into the binary number\n",
    "    n=0\n",
    "    while decimal>0:  #loop will be continue until the number is not going to the less than the 0\n",
    "        binary=binary+(decimal%2)*(10**n)  #remainder will be put at its right place.\n",
    "        decimal=decimal//2 # updates the decimal part by changig it into integer\n",
    "        n=n+1\n",
    "    return binary\n",
    "find_binary(138)\n"
   ]
  }
 ],
 "metadata": {
  "kernelspec": {
   "display_name": "base",
   "language": "python",
   "name": "python3"
  },
  "language_info": {
   "codemirror_mode": {
    "name": "ipython",
    "version": 3
   },
   "file_extension": ".py",
   "mimetype": "text/x-python",
   "name": "python",
   "nbconvert_exporter": "python",
   "pygments_lexer": "ipython3",
   "version": "3.11.4"
  }
 },
 "nbformat": 4,
 "nbformat_minor": 2
}
