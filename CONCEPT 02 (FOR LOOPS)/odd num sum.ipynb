{
 "cells": [
  {
   "cell_type": "markdown",
   "metadata": {},
   "source": [
    "Given a positive integer, find out the sum of all odd numbers from 1 up to this number."
   ]
  },
  {
   "cell_type": "code",
   "execution_count": 1,
   "metadata": {},
   "outputs": [
    {
     "name": "stdout",
     "output_type": "stream",
     "text": [
      "the entered number is: 7\n",
      "the sum of the odd numbers is 16\n"
     ]
    }
   ],
   "source": [
    "num=int(input(\"enter a positive number here:\"))\n",
    "print(\"the entered number is:\",num)\n",
    "sum_odd=0 #intiate the  sum with 0 \n",
    "for i in range(1,num+1,2): #we will going to  print the number starting from 1 with one number gap and off course these will be the odd numbers\n",
    "    sum_odd=sum_odd+i\n",
    "print(\"the sum of the odd numbers is\",sum_odd)\n"
   ]
  }
 ],
 "metadata": {
  "kernelspec": {
   "display_name": "base",
   "language": "python",
   "name": "python3"
  },
  "language_info": {
   "codemirror_mode": {
    "name": "ipython",
    "version": 3
   },
   "file_extension": ".py",
   "mimetype": "text/x-python",
   "name": "python",
   "nbconvert_exporter": "python",
   "pygments_lexer": "ipython3",
   "version": "3.11.4"
  }
 },
 "nbformat": 4,
 "nbformat_minor": 2
}
