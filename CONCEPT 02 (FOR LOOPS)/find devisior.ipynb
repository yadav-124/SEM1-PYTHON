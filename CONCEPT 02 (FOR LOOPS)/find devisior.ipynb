{
 "cells": [
  {
   "cell_type": "markdown",
   "metadata": {},
   "source": [
    "Given a positive integer, find all its divisors."
   ]
  },
  {
   "cell_type": "code",
   "execution_count": 1,
   "metadata": {},
   "outputs": [
    {
     "name": "stdout",
     "output_type": "stream",
     "text": [
      "the number entered is 5\n",
      "1\n",
      "5\n"
     ]
    }
   ],
   "source": [
    "n=int(input(\"enter the number\")) #take the input from the user\n",
    "print(\"the number entered is\",n)\n",
    "for i in range (1,n+1):\n",
    "    if n%i==0: #the number which will devide it completly will be the devisior of the number\n",
    "        print(i)"
   ]
  }
 ],
 "metadata": {
  "kernelspec": {
   "display_name": "base",
   "language": "python",
   "name": "python3"
  },
  "language_info": {
   "codemirror_mode": {
    "name": "ipython",
    "version": 3
   },
   "file_extension": ".py",
   "mimetype": "text/x-python",
   "name": "python",
   "nbconvert_exporter": "python",
   "pygments_lexer": "ipython3",
   "version": "3.11.4"
  }
 },
 "nbformat": 4,
 "nbformat_minor": 2
}
