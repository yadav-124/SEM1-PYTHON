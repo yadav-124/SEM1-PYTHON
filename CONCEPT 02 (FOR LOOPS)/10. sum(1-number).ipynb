{
 "cells": [
  {
   "cell_type": "markdown",
   "metadata": {},
   "source": [
    "Given a positive integer, find out the sum of all integers from 1 up to this number."
   ]
  },
  {
   "cell_type": "code",
   "execution_count": 2,
   "metadata": {},
   "outputs": [
    {
     "name": "stdout",
     "output_type": "stream",
     "text": [
      "the number intered is: 100\n",
      "5050\n"
     ]
    }
   ],
   "source": [
    "num=int(input(\"a positive integer here\"))\n",
    "print(\"the number intered is:\",num)\n",
    "sum=0  #we will initiate the sum from zero\n",
    "for i in range (1,num+1): #as we want 100 included so we will have to itrate from 1 to 100.\n",
    "    sum=sum+i  #every time the number will be added and the sum will be incresing.\n",
    "print(sum)"
   ]
  }
 ],
 "metadata": {
  "kernelspec": {
   "display_name": "base",
   "language": "python",
   "name": "python3"
  },
  "language_info": {
   "codemirror_mode": {
    "name": "ipython",
    "version": 3
   },
   "file_extension": ".py",
   "mimetype": "text/x-python",
   "name": "python",
   "nbconvert_exporter": "python",
   "pygments_lexer": "ipython3",
   "version": "3.11.4"
  }
 },
 "nbformat": 4,
 "nbformat_minor": 2
}
