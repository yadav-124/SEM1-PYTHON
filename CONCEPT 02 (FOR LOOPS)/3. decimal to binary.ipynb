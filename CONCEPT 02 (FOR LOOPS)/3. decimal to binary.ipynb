{
 "cells": [
  {
   "cell_type": "markdown",
   "metadata": {},
   "source": [
    "Given a positive integer, convert it into binary, and vice-versa.(IMPORTANT)"
   ]
  },
  {
   "cell_type": "code",
   "execution_count": 4,
   "metadata": {},
   "outputs": [
    {
     "data": {
      "text/plain": [
       "138"
      ]
     },
     "execution_count": 4,
     "metadata": {},
     "output_type": "execute_result"
    }
   ],
   "source": [
    "def find_decimal(bi_num):\n",
    "    da_num=0 # We generally convert decimal into binary by multiplying the digits by the 2and its gradually increasing \n",
    "    i=1     # starting power from 0\n",
    "    while bi_num!=0: \n",
    "        rem=bi_num%10 #this will help in getting the last digit of the binary number \n",
    "        da_num=da_num+(rem*i) \n",
    "        i=i*2 # to increase the power of the 2 to multiply with the digits of the binary number   \n",
    "        bi_num=(bi_num//10)#this will update the bi_num by removing one digit every time from the back\n",
    "    return da_num\n",
    "find_decimal(10001010)\n",
    "\n",
    "\n"
   ]
  }
 ],
 "metadata": {
  "kernelspec": {
   "display_name": "base",
   "language": "python",
   "name": "python3"
  },
  "language_info": {
   "codemirror_mode": {
    "name": "ipython",
    "version": 3
   },
   "file_extension": ".py",
   "mimetype": "text/x-python",
   "name": "python",
   "nbconvert_exporter": "python",
   "pygments_lexer": "ipython3",
   "version": "3.11.4"
  }
 },
 "nbformat": 4,
 "nbformat_minor": 2
}
