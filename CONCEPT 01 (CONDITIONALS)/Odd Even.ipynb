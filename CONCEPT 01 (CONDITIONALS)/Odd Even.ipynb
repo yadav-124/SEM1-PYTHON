{
 "cells": [
  {
   "cell_type": "markdown",
   "metadata": {},
   "source": [
    "Given an integer ,check if it is even or odd ."
   ]
  },
  {
   "cell_type": "code",
   "execution_count": 2,
   "metadata": {},
   "outputs": [
    {
     "name": "stdout",
     "output_type": "stream",
     "text": [
      "the number entered by user is 8\n",
      "the number given is an even integer\n"
     ]
    }
   ],
   "source": [
    "num=int(input(\"enter the  integer  here:\"))     #Here user will enter the integer and the integer will stored in 'num'.\n",
    "print(\"the number entered by user is\",num)\n",
    "if num%2==0:       #An even number is that which is devisible by 2,so we will firstly check for devisiblity by 2.\n",
    "    print(\"the number given is an even integer\")\n",
    "else:\n",
    "    print(\" the number is odd integer\")"
   ]
  }
 ],
 "metadata": {
  "kernelspec": {
   "display_name": "base",
   "language": "python",
   "name": "python3"
  },
  "language_info": {
   "codemirror_mode": {
    "name": "ipython",
    "version": 3
   },
   "file_extension": ".py",
   "mimetype": "text/x-python",
   "name": "python",
   "nbconvert_exporter": "python",
   "pygments_lexer": "ipython3",
   "version": "3.11.4"
  }
 },
 "nbformat": 4,
 "nbformat_minor": 2
}
