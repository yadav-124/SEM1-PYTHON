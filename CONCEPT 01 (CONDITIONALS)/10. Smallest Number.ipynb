{
 "cells": [
  {
   "cell_type": "markdown",
   "metadata": {},
   "source": [
    "Given three integers, find the smallest one."
   ]
  },
  {
   "cell_type": "code",
   "execution_count": 6,
   "metadata": {},
   "outputs": [
    {
     "name": "stdout",
     "output_type": "stream",
     "text": [
      "a is smallest\n"
     ]
    }
   ],
   "source": [
    "a=-1\n",
    "b=6\n",
    "c=0\n",
    "if a<b: \n",
    "    if a<c:print(\"a is smallest\") #if a is less than both the numbers then it is smallest\n",
    "    else:print(\"c is smallest\") #as we already checked a is smaller than b  and if c is less than a then c will definetly smaller\n",
    "if b<c:\n",
    "    if c<a:print(\"b is smallest\") #same  logic as above ,we useing here also.\n",
    "        \n",
    "        \n",
    "\n",
    "        \n"
   ]
  }
 ],
 "metadata": {
  "kernelspec": {
   "display_name": "base",
   "language": "python",
   "name": "python3"
  },
  "language_info": {
   "codemirror_mode": {
    "name": "ipython",
    "version": 3
   },
   "file_extension": ".py",
   "mimetype": "text/x-python",
   "name": "python",
   "nbconvert_exporter": "python",
   "pygments_lexer": "ipython3",
   "version": "3.11.4"
  }
 },
 "nbformat": 4,
 "nbformat_minor": 2
}
