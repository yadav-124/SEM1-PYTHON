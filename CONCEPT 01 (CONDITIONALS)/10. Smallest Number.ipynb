{
 "cells": [
  {
   "cell_type": "markdown",
   "metadata": {},
   "source": [
    "Given three integers, find the smallest one."
   ]
  },
  {
   "cell_type": "code",
   "execution_count": 9,
   "metadata": {},
   "outputs": [
    {
     "name": "stdout",
     "output_type": "stream",
     "text": [
      "the smallest number among is: 11\n"
     ]
    }
   ],
   "source": [
    "a=11\n",
    "b=11\n",
    "c=16\n",
    "if a<b and a<c:\n",
    "    print(\"the smallest number among is:\",a)\n",
    "elif b<c:\n",
    "    print(\"the smallest number among is:\",b)   \n",
    "else:\n",
    "    print(\"the smallest number among is:\",c) \n",
    "        \n",
    "\n",
    "        \n"
   ]
  }
 ],
 "metadata": {
  "kernelspec": {
   "display_name": "base",
   "language": "python",
   "name": "python3"
  },
  "language_info": {
   "codemirror_mode": {
    "name": "ipython",
    "version": 3
   },
   "file_extension": ".py",
   "mimetype": "text/x-python",
   "name": "python",
   "nbconvert_exporter": "python",
   "pygments_lexer": "ipython3",
   "version": "3.11.4"
  }
 },
 "nbformat": 4,
 "nbformat_minor": 2
}
