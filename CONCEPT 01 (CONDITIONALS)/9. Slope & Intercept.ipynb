{
 "cells": [
  {
   "cell_type": "markdown",
   "metadata": {},
   "source": [
    "Given two points (x1, y1) and (x2, y2), find the slope and intercept of the line joining these two points (the line may be perfectly horizontal or vertical)."
   ]
  },
  {
   "cell_type": "code",
   "execution_count": 3,
   "metadata": {},
   "outputs": [
    {
     "ename": "NameError",
     "evalue": "name 'a' is not defined",
     "output_type": "error",
     "traceback": [
      "\u001b[1;31m---------------------------------------------------------------------------\u001b[0m",
      "\u001b[1;31mNameError\u001b[0m                                 Traceback (most recent call last)",
      "\u001b[1;32mc:\\Users\\Admin\\OneDrive\\Documents\\GitHub\\SEM1-PYTHON\\CONCEPT 01 (CONDITIONALS)\\9. Slope & Intercept.ipynb Cell 2\u001b[0m line \u001b[0;36m1\n\u001b[0;32m     <a href='vscode-notebook-cell:/c%3A/Users/Admin/OneDrive/Documents/GitHub/SEM1-PYTHON/CONCEPT%2001%20%28CONDITIONALS%29/9.%20Slope%20%26%20Intercept.ipynb#W1sZmlsZQ%3D%3D?line=11'>12</a>\u001b[0m         \u001b[39melse\u001b[39;00m:\n\u001b[0;32m     <a href='vscode-notebook-cell:/c%3A/Users/Admin/OneDrive/Documents/GitHub/SEM1-PYTHON/CONCEPT%2001%20%28CONDITIONALS%29/9.%20Slope%20%26%20Intercept.ipynb#W1sZmlsZQ%3D%3D?line=12'>13</a>\u001b[0m             \u001b[39mreturn\u001b[39;00m\u001b[39m\"\u001b[39m\u001b[39mthe points are overlapped\u001b[39m\u001b[39m\"\u001b[39m\n\u001b[1;32m---> <a href='vscode-notebook-cell:/c%3A/Users/Admin/OneDrive/Documents/GitHub/SEM1-PYTHON/CONCEPT%2001%20%28CONDITIONALS%29/9.%20Slope%20%26%20Intercept.ipynb#W1sZmlsZQ%3D%3D?line=13'>14</a>\u001b[0m find_slope(\u001b[39m1\u001b[39;49m,\u001b[39m2\u001b[39;49m,\u001b[39m3\u001b[39;49m,\u001b[39m4\u001b[39;49m)\n",
      "\u001b[1;32mc:\\Users\\Admin\\OneDrive\\Documents\\GitHub\\SEM1-PYTHON\\CONCEPT 01 (CONDITIONALS)\\9. Slope & Intercept.ipynb Cell 2\u001b[0m line \u001b[0;36m5\n\u001b[0;32m      <a href='vscode-notebook-cell:/c%3A/Users/Admin/OneDrive/Documents/GitHub/SEM1-PYTHON/CONCEPT%2001%20%28CONDITIONALS%29/9.%20Slope%20%26%20Intercept.ipynb#W1sZmlsZQ%3D%3D?line=2'>3</a>\u001b[0m \u001b[39mif\u001b[39;00m (y2\u001b[39m-\u001b[39my1)\u001b[39m!=\u001b[39m\u001b[39m0\u001b[39m:\n\u001b[0;32m      <a href='vscode-notebook-cell:/c%3A/Users/Admin/OneDrive/Documents/GitHub/SEM1-PYTHON/CONCEPT%2001%20%28CONDITIONALS%29/9.%20Slope%20%26%20Intercept.ipynb#W1sZmlsZQ%3D%3D?line=3'>4</a>\u001b[0m     s\u001b[39m=\u001b[39m(y2\u001b[39m-\u001b[39my1)\u001b[39m/\u001b[39m(x2\u001b[39m-\u001b[39mx1)    \n\u001b[1;32m----> <a href='vscode-notebook-cell:/c%3A/Users/Admin/OneDrive/Documents/GitHub/SEM1-PYTHON/CONCEPT%2001%20%28CONDITIONALS%29/9.%20Slope%20%26%20Intercept.ipynb#W1sZmlsZQ%3D%3D?line=4'>5</a>\u001b[0m     b\u001b[39m=\u001b[39m(y2\u001b[39m-\u001b[39my1)\u001b[39m/\u001b[39m(\u001b[39m1\u001b[39m\u001b[39m-\u001b[39m(x2\u001b[39m-\u001b[39mx1)\u001b[39m/\u001b[39ma) \u001b[39m# if the denominater will be 0 then the the line will be perpendicular to the x axis \u001b[39;00m\n\u001b[0;32m      <a href='vscode-notebook-cell:/c%3A/Users/Admin/OneDrive/Documents/GitHub/SEM1-PYTHON/CONCEPT%2001%20%28CONDITIONALS%29/9.%20Slope%20%26%20Intercept.ipynb#W1sZmlsZQ%3D%3D?line=5'>6</a>\u001b[0m     \u001b[39mreturn\u001b[39;00m (s ,b)\n\u001b[0;32m      <a href='vscode-notebook-cell:/c%3A/Users/Admin/OneDrive/Documents/GitHub/SEM1-PYTHON/CONCEPT%2001%20%28CONDITIONALS%29/9.%20Slope%20%26%20Intercept.ipynb#W1sZmlsZQ%3D%3D?line=6'>7</a>\u001b[0m \u001b[39melif\u001b[39;00m (y2\u001b[39m-\u001b[39my1)\u001b[39m==\u001b[39m\u001b[39m0\u001b[39m:\n",
      "\u001b[1;31mNameError\u001b[0m: name 'a' is not defined"
     ]
    }
   ],
   "source": [
    "def find_slope(x1,y1,x2,y2):\n",
    "    if (x2-x1)!=0:         # We know that the slope is defind as the ratio of the difference of the y and x point.\n",
    "        if (y2-y1)!=0:\n",
    "            s=(y2-y1)/(x2-x1)    \n",
    "            b=(y2-y1)/(1-(x2-x1)/a) # if the denominater will be 0 then the the line will be perpendicular to the x axis \n",
    "            return (s ,b)\n",
    "        elif (y2-y1)==0:\n",
    "            return\"the line is horizontal, no y intercept \"\n",
    "    elif (x2-x1)==0:\n",
    "        if y2-y1!=0:\n",
    "            return\"the line is perpendicular to x axis\",b\n",
    "        else:\n",
    "            return\"the points are overlapped\"\n",
    "find_slope(1,2,3,4)\n",
    "\n",
    "\n"
   ]
  }
 ],
 "metadata": {
  "kernelspec": {
   "display_name": "base",
   "language": "python",
   "name": "python3"
  },
  "language_info": {
   "codemirror_mode": {
    "name": "ipython",
    "version": 3
   },
   "file_extension": ".py",
   "mimetype": "text/x-python",
   "name": "python",
   "nbconvert_exporter": "python",
   "pygments_lexer": "ipython3",
   "version": "3.11.4"
  }
 },
 "nbformat": 4,
 "nbformat_minor": 2
}
