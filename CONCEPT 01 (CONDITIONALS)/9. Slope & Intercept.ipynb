{
 "cells": [
  {
   "cell_type": "markdown",
   "metadata": {},
   "source": [
    "Given two points (x1, y1) and (x2, y2), find the slope and intercept of the line joining these two points (the line may be perfectly horizontal or vertical)."
   ]
  },
  {
   "cell_type": "code",
   "execution_count": 7,
   "metadata": {},
   "outputs": [
    {
     "name": "stdout",
     "output_type": "stream",
     "text": [
      "slope of the points is 1.0\n",
      "the y intercept is 2.0\n"
     ]
    }
   ],
   "source": [
    "x1=float(input(\"enter the value of x1\")) #Firstly we are taking the input of the four points\n",
    "x2=float(input(\"enter the value of x2\"))\n",
    "y1=float(input(\"enter the value of y1\"))\n",
    "y2=float(input(\"enter the value of y2\"))\n",
    "if (x2-x1)!=0:         # We know that the slope is defind as the ratio of the difference of the y and x point.\n",
    "    if (y2-y1)!=0:\n",
    "        s=(y2-y1)/(x2-x1)          # if the denominater will be 0 then the the line will be perpendicular to the x axis \n",
    "        print(\"slope of the points is\",s)\n",
    "    elif (y2-y1)==0:\n",
    "        print(\"the line is horizontal\")\n",
    "elif (x2-x1)==0:\n",
    "    if y2-y1!=0:\n",
    "        print(\"the line is perpendicular to x axis\")\n",
    "    else:\n",
    "        print(\"the points are overlapped\")\n",
    "x=0\n",
    "y=(((y2-y1)/(x2-x1))*(x-x1))+y1\n",
    "print(\"the y intercept is\",y)\n",
    "\n",
    "\n"
   ]
  }
 ],
 "metadata": {
  "kernelspec": {
   "display_name": "base",
   "language": "python",
   "name": "python3"
  },
  "language_info": {
   "codemirror_mode": {
    "name": "ipython",
    "version": 3
   },
   "file_extension": ".py",
   "mimetype": "text/x-python",
   "name": "python",
   "nbconvert_exporter": "python",
   "pygments_lexer": "ipython3",
   "version": "3.11.4"
  }
 },
 "nbformat": 4,
 "nbformat_minor": 2
}
