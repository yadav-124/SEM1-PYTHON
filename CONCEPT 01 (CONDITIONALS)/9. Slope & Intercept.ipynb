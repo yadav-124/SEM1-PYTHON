{
 "cells": [
  {
   "cell_type": "markdown",
   "metadata": {},
   "source": [
    "Given two points (x1, y1) and (x2, y2), find the slope and intercept of the line joining these two points (the line may be perfectly horizontal or vertical)."
   ]
  },
  {
   "cell_type": "code",
   "execution_count": 11,
   "metadata": {},
   "outputs": [
    {
     "data": {
      "text/plain": [
       "(1.0, 1.0)"
      ]
     },
     "execution_count": 11,
     "metadata": {},
     "output_type": "execute_result"
    }
   ],
   "source": [
    "def find_slope(x1,y1,x2,y2):\n",
    "    if (x2-x1)!=0:         # We know that the slope is defind as the ratio of the difference of the y and x point.\n",
    "        if (y2-y1)!=0:\n",
    "            s=(y2-y1)/(x2-x1)   \n",
    "            b=y1-s*x1 \n",
    "            return (s ,b)  # if the denominater will be 0 then the the line will be perpendicular to the x axis\n",
    "        elif (y2-y1)==0:\n",
    "            s=(y2-y1)/(x2-x1)   \n",
    "            b=y1-s*x1 \n",
    "            return\"the line is parallel to the x axis\",b\n",
    "    elif (x2-x1)==0:\n",
    "        if y2-y1!=0:\n",
    "            return\"the line is perpendicular to x axis, no y intercept is defined\"\n",
    "        else:\n",
    "            return\"the points are overlapped\"\n",
    "find_slope(1,2,3,4)\n",
    "\n",
    "\n"
   ]
  }
 ],
 "metadata": {
  "kernelspec": {
   "display_name": "base",
   "language": "python",
   "name": "python3"
  },
  "language_info": {
   "codemirror_mode": {
    "name": "ipython",
    "version": 3
   },
   "file_extension": ".py",
   "mimetype": "text/x-python",
   "name": "python",
   "nbconvert_exporter": "python",
   "pygments_lexer": "ipython3",
   "version": "3.11.4"
  }
 },
 "nbformat": 4,
 "nbformat_minor": 2
}
