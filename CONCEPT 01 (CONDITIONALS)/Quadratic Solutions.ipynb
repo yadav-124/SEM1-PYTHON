{
 "cells": [
  {
   "cell_type": "markdown",
   "metadata": {},
   "source": [
    "Given a quadratic equation with coefficients a, b and c, find the two solutions (may be real or complex). You should not take the square root of a negative number in your code."
   ]
  },
  {
   "cell_type": "code",
   "execution_count": 4,
   "metadata": {},
   "outputs": [
    {
     "name": "stdout",
     "output_type": "stream",
     "text": [
      "roots  are real\n",
      "-0.5505102572168221\n",
      "-5.449489742783178\n"
     ]
    }
   ],
   "source": [
    "a=float(input(\"enter the value of a:\"))  #take the input by the user of the three numbers\n",
    "b=float(input(\"enter the value of b:\"))\n",
    "c=float(input(\"enter the value of c:\"))\n",
    "d=b*b-4*a*c  #this 'd' is called the discriminant .\n",
    "if d>0:  #if d>0 then the roots are real\n",
    "    print(\"roots  are real\")\n",
    "    x=(-b+d**0.5)/(2*a)\n",
    "    print(x)   \n",
    "    y=(-b-d**0.5)/(2*a)\n",
    "    print(y)\n",
    "elif d==0:  # if the discriminant is equal to 0 then the roots are equal\n",
    "    print(\"roots are real and equal:\",(-b+d**0.5)/(2*a))\n",
    "else:\n",
    "    print(\"roots are complex:\") #if d<0 then roots will be complex.\n"
   ]
  }
 ],
 "metadata": {
  "kernelspec": {
   "display_name": "base",
   "language": "python",
   "name": "python3"
  },
  "language_info": {
   "codemirror_mode": {
    "name": "ipython",
    "version": 3
   },
   "file_extension": ".py",
   "mimetype": "text/x-python",
   "name": "python",
   "nbconvert_exporter": "python",
   "pygments_lexer": "ipython3",
   "version": "3.11.4"
  }
 },
 "nbformat": 4,
 "nbformat_minor": 2
}
