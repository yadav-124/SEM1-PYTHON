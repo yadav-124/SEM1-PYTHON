{
 "cells": [
  {
   "cell_type": "markdown",
   "metadata": {},
   "source": [
    "Given a quadratic equation with coefficients a, b and c, find the two solutions (may be real or complex). You should not take the square root of a negative number in your code."
   ]
  },
  {
   "cell_type": "code",
   "execution_count": 14,
   "metadata": {},
   "outputs": [
    {
     "data": {
      "text/plain": [
       "'this is not forming a quadratic equation'"
      ]
     },
     "execution_count": 14,
     "metadata": {},
     "output_type": "execute_result"
    }
   ],
   "source": [
    "def find_root(a,b,c):\n",
    "    if a!=0:\n",
    "        d=b*b-4*a*c  #this 'd' is called the discriminant .\n",
    "        if d>0:  #if d>0 then the roots are real\n",
    "            x=(-b+d**0.5)/(2*a)\n",
    "            y=(-b-d**0.5)/(2*a)\n",
    "            return x,y\n",
    "        elif d==0:  # if the discriminant is equal to 0 then the roots are equal\n",
    "            return(-b)/(2*a),(-b)/(2*a)\n",
    "        else:\n",
    "            return\"roots are complex:\" #if d<0 then roots will be complex.\n",
    "    else:\n",
    "        return\"this is not forming a quadratic equation\"\n",
    "find_root(0,2,3)\n"
   ]
  }
 ],
 "metadata": {
  "kernelspec": {
   "display_name": "base",
   "language": "python",
   "name": "python3"
  },
  "language_info": {
   "codemirror_mode": {
    "name": "ipython",
    "version": 3
   },
   "file_extension": ".py",
   "mimetype": "text/x-python",
   "name": "python",
   "nbconvert_exporter": "python",
   "pygments_lexer": "ipython3",
   "version": "3.11.4"
  }
 },
 "nbformat": 4,
 "nbformat_minor": 2
}
