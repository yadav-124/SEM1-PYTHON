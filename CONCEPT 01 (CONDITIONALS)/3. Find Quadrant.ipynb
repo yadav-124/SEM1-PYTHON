{
 "cells": [
  {
   "cell_type": "markdown",
   "metadata": {},
   "source": [
    "given a point (x1, y1), find the quadrant in which this point lies."
   ]
  },
  {
   "cell_type": "code",
   "execution_count": 3,
   "metadata": {},
   "outputs": [
    {
     "name": "stdout",
     "output_type": "stream",
     "text": [
      "the entered point is:( 7.0 , 0.0 )\n",
      "the point is on positive x axis\n"
     ]
    }
   ],
   "source": [
    "x1=float(input(\"enter  the value\")) #take the input of the two point of which we want to find the quadrant\n",
    "y1=float(input(\"enter another value\"))\n",
    "print(\"the entered point is:\"'(',x1,',',y1,')')\n",
    "if x1>0 :                                           # We know that if both x and y are positive then it will be in first quadrant\n",
    "    if y1>0:\n",
    "        print(\"the  point is in the first quadrant\")  #if x is positive and y is negative then fourth quadrant\n",
    "    elif y1==0:\n",
    "        print(\"the point is on positive x axis\")   #if y is positive and x is negative thensecond quadrant\n",
    "    else:\n",
    "        print(\"the point is in fourth quadrant\") # if x and y  both are negative then third quadarant\n",
    "elif x1==0:\n",
    "    if y1==0:\n",
    "        print(\"this is origin\") # if either of the pont will be 0 then the point will lying on the axis\n",
    "    elif y1>0:\n",
    "        print(\"the point is on positive y axis\")\n",
    "    else:\n",
    "        print(\"the point is on negative y axis\")\n",
    "else:\n",
    "    if y1==0:\n",
    "        print(\"point is on the negative x axis\")\n",
    "    elif y1<0:\n",
    "        print(\"the point is in the third quadrant\")\n",
    "    else:\n",
    "        print(\"the point is in the second quadrant\")\n",
    "\n",
    "\n",
    "\n",
    "    \n"
   ]
  },
  {
   "cell_type": "code",
   "execution_count": 7,
   "metadata": {},
   "outputs": [
    {
     "name": "stdout",
     "output_type": "stream",
     "text": [
      "[[3, 5, 7], [7, 10, 8]]\n",
      "3\n",
      "5\n",
      "7\n",
      "\n",
      "\n",
      "7\n",
      "10\n",
      "8\n",
      "\n",
      "\n"
     ]
    }
   ],
   "source": [
    "list1=[[2,4,6],[6,9,7]]\n",
    "list2=[]\n",
    "for i in list1:\n",
    "    list3=[]\n",
    "    for j in i:\n",
    "        b=j+1\n",
    "        list3.append(b)\n",
    "    list2.append(list3)\n",
    "print(list2)\n",
    "for k in list2:\n",
    "    for m in k:\n",
    "        print(m)\n",
    "    print(\"\\n\")\n",
    "    "
   ]
  }
 ],
 "metadata": {
  "kernelspec": {
   "display_name": "base",
   "language": "python",
   "name": "python3"
  },
  "language_info": {
   "codemirror_mode": {
    "name": "ipython",
    "version": 3
   },
   "file_extension": ".py",
   "mimetype": "text/x-python",
   "name": "python",
   "nbconvert_exporter": "python",
   "pygments_lexer": "ipython3",
   "version": "3.11.4"
  }
 },
 "nbformat": 4,
 "nbformat_minor": 2
}
