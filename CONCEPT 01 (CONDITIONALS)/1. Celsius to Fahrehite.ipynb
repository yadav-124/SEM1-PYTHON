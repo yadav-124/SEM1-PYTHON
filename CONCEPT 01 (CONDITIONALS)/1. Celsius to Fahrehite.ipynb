{
 "cells": [
  {
   "cell_type": "markdown",
   "metadata": {},
   "source": [
    "Given a temperature in Celsius, convert it to Fahrenheit using the formula F = (C * 1.8) + 32. If the temperature is above 90°F, print “It’s hot outside!” otherwise, print “The temperature is pleasant”"
   ]
  },
  {
   "cell_type": "code",
   "execution_count": 2,
   "metadata": {},
   "outputs": [
    {
     "data": {
      "text/plain": [
       "'the temprture is pleasant'"
      ]
     },
     "execution_count": 2,
     "metadata": {},
     "output_type": "execute_result"
    }
   ],
   "source": [
    "def tem_celsious(c): \n",
    "    f=(c*1.8)+32  #this farmuls will convert the value of the temperature from celsius to fehrenhite.\n",
    "    if f>90:  # We are checking for the condition that will decide weather condition\n",
    "        return\"it's hot outside\"\n",
    "    else:\n",
    "        return\"the temprture is pleasant\"\n",
    "tem_celsious(30)\n"
   ]
  }
 ],
 "metadata": {
  "kernelspec": {
   "display_name": "base",
   "language": "python",
   "name": "python3"
  },
  "language_info": {
   "codemirror_mode": {
    "name": "ipython",
    "version": 3
   },
   "file_extension": ".py",
   "mimetype": "text/x-python",
   "name": "python",
   "nbconvert_exporter": "python",
   "pygments_lexer": "ipython3",
   "version": "3.11.4"
  }
 },
 "nbformat": 4,
 "nbformat_minor": 2
}
