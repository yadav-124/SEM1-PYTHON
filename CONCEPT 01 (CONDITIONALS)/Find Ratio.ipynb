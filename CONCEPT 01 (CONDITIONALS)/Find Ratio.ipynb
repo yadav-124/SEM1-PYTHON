{
 "cells": [
  {
   "cell_type": "markdown",
   "metadata": {},
   "source": [
    "Given two numbers, a and b, find the value of a/b (b may be zero)."
   ]
  },
  {
   "cell_type": "code",
   "execution_count": 1,
   "metadata": {},
   "outputs": [
    {
     "name": "stdout",
     "output_type": "stream",
     "text": [
      "[ 6.0 , 8.0 ]\n",
      "0.75\n"
     ]
    }
   ],
   "source": [
    "a=float(input(\"enter the value:\"))  #take the input of two numbers to find the ratio \n",
    "b=float(input(\"enter the value:\"))\n",
    "print('[',a,',',b,']')\n",
    "if a>=0 and b!=0:  #we know that a/b is defind only when the b!=0  and both a and b simultaneously also not equal to 0.\n",
    "    print(a/b)\n",
    "elif a!=0 and b==0:\n",
    "    print(\"the devision is not defined\")\n",
    "elif a!=0 and b!=0:\n",
    "    print(a/b)\n",
    "\n",
    "\n"
   ]
  }
 ],
 "metadata": {
  "kernelspec": {
   "display_name": "base",
   "language": "python",
   "name": "python3"
  },
  "language_info": {
   "codemirror_mode": {
    "name": "ipython",
    "version": 3
   },
   "file_extension": ".py",
   "mimetype": "text/x-python",
   "name": "python",
   "nbconvert_exporter": "python",
   "pygments_lexer": "ipython3",
   "version": "3.11.4"
  }
 },
 "nbformat": 4,
 "nbformat_minor": 2
}
