{
 "cells": [
  {
   "cell_type": "markdown",
   "metadata": {},
   "source": [
    "given a point (x1, y1), find the quadrant in which this point lies."
   ]
  },
  {
   "cell_type": "code",
   "execution_count": 3,
   "metadata": {},
   "outputs": [
    {
     "data": {
      "text/plain": [
       "'the point is in the third quadrant'"
      ]
     },
     "execution_count": 3,
     "metadata": {},
     "output_type": "execute_result"
    }
   ],
   "source": [
    "def find_quad(x1,y1):#take the input of the two point of which we want to find the quadrant\n",
    "    if x1>0 :                                           # We know that if both x and y are positive then it will be in first quadrant\n",
    "        if y1>0:\n",
    "            return\"the  point is in the first quadrant\"#if x is positive and y is negative then fourth quadrant\n",
    "        elif y1==0:\n",
    "            return\"the point is on positive x axis\"   #if y is positive and x is negative thensecond quadrant\n",
    "        else:\n",
    "           return\"the point is in fourth quadrant\" # if x and y  both are negative then third quadarant\n",
    "    elif x1==0:\n",
    "        if y1==0:\n",
    "           return\"this is origin\"# if either of the pont will be 0 then the point will lying on the axis\n",
    "        elif y1>0:\n",
    "           return\"the point is on positive y axis\"\n",
    "        else:\n",
    "            return\"the point is on negative y axis\"\n",
    "    else:\n",
    "        if y1==0:\n",
    "            return\"point is on the negative x axis\"\n",
    "        elif y1<0:\n",
    "            return\"the point is in the third quadrant\"\n",
    "        else:\n",
    "            return\"the point is in the second quadrant\"\n",
    "find_quad(-5,-5)\n",
    "\n",
    "\n",
    "\n",
    "    \n"
   ]
  }
 ],
 "metadata": {
  "kernelspec": {
   "display_name": "base",
   "language": "python",
   "name": "python3"
  },
  "language_info": {
   "codemirror_mode": {
    "name": "ipython",
    "version": 3
   },
   "file_extension": ".py",
   "mimetype": "text/x-python",
   "name": "python",
   "nbconvert_exporter": "python",
   "pygments_lexer": "ipython3",
   "version": "3.11.4"
  }
 },
 "nbformat": 4,
 "nbformat_minor": 2
}
