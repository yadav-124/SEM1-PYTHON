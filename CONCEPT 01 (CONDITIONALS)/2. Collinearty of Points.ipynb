{
 "cells": [
  {
   "cell_type": "markdown",
   "metadata": {},
   "source": [
    "Given three points, find out whether they lie on the same straight line or not."
   ]
  },
  {
   "cell_type": "code",
   "execution_count": 3,
   "metadata": {},
   "outputs": [
    {
     "data": {
      "text/plain": [
       "'non collinear points'"
      ]
     },
     "execution_count": 3,
     "metadata": {},
     "output_type": "execute_result"
    }
   ],
   "source": [
    "def find_colinear(x1,x2,x3,y1,y2,y3):  # takes six points to define the area made by them\n",
    "    a=(1/2)*(x1*(y2-y3)+x2*(y3-y1)+x3*(y1-y2)) \n",
    "    if a==0:   # logic is to check the area and if it is zero then the points will be the collinear points\n",
    "        return\"points are collinear\"\n",
    "    else:\n",
    "        return\"non collinear points\"\n",
    "find_colinear(1,2,5,2,4,6)\n"
   ]
  }
 ],
 "metadata": {
  "kernelspec": {
   "display_name": "base",
   "language": "python",
   "name": "python3"
  },
  "language_info": {
   "codemirror_mode": {
    "name": "ipython",
    "version": 3
   },
   "file_extension": ".py",
   "mimetype": "text/x-python",
   "name": "python",
   "nbconvert_exporter": "python",
   "pygments_lexer": "ipython3",
   "version": "3.11.4"
  }
 },
 "nbformat": 4,
 "nbformat_minor": 2
}
