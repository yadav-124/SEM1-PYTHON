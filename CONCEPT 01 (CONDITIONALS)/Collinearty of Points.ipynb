{
 "cells": [
  {
   "cell_type": "markdown",
   "metadata": {},
   "source": [
    "Given three points, find out whether they lie on the same straight line or not."
   ]
  },
  {
   "cell_type": "code",
   "execution_count": 2,
   "metadata": {},
   "outputs": [
    {
     "name": "stdout",
     "output_type": "stream",
     "text": [
      "3.0\n",
      "non collinear points\n"
     ]
    }
   ],
   "source": [
    "x1=float(input(\"enter the value of x1:\"))  #Take the input of four points by the user\n",
    "y1=float(input(\"enter the value of y1:\"))\n",
    "x2=float(input(\" enter the value of x2:\"))\n",
    "y2=float(input(\"enter the value of y2:\"))\n",
    "x3=float(input(\" enter the value of x3:\"))\n",
    "y3=float(input(\"enter the value of y3:\"))\n",
    "a=(1/2)*(x1*(y2-y3)+x2*(y3-y1)+x3*(y1-y2))  \n",
    "#If the three points are collinear then no triangle can be formed and hence the area should be zero so we use this logic here:\n",
    "print(a)\n",
    "if a==0:\n",
    "    print(\"points are collinear\")\n",
    "else:\n",
    "    print(\"non collinear points\")"
   ]
  }
 ],
 "metadata": {
  "kernelspec": {
   "display_name": "base",
   "language": "python",
   "name": "python3"
  },
  "language_info": {
   "codemirror_mode": {
    "name": "ipython",
    "version": 3
   },
   "file_extension": ".py",
   "mimetype": "text/x-python",
   "name": "python",
   "nbconvert_exporter": "python",
   "pygments_lexer": "ipython3",
   "version": "3.11.4"
  }
 },
 "nbformat": 4,
 "nbformat_minor": 2
}
