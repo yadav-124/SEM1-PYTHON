{
 "cells": [
  {
   "cell_type": "markdown",
   "metadata": {},
   "source": [
    "6.Create a dictionary to store the total marks of 5 students in the class in 3 subjects (Course1, Course2, Course3). The keys must be the student names, and the values must be the list of marks. Create another list which has the course names in the same order as the marks are stored in the dictionary values. Now write a nested for loop to print the marks for each student exam wise.\n",
    "Student1\n",
    "Course1 marks : 82\n",
    "Course2 marks : 84\n",
    "Course3 marks : 72\n",
    "Student2\n",
    "Course1 marks : 87\n",
    "Course2 marks : 83\n",
    "Course3 marks : 78"
   ]
  },
  {
   "cell_type": "code",
   "execution_count": 1,
   "metadata": {},
   "outputs": [
    {
     "name": "stdout",
     "output_type": "stream",
     "text": [
      "pradeep\n",
      "math : 60\n",
      "physics : 80\n",
      "chemistry : 96\n",
      "ramu\n",
      "math : 66\n",
      "physics : 98\n",
      "chemistry : 67\n",
      "prakash\n",
      "math : 45\n",
      "physics : 68\n",
      "chemistry : 90\n",
      "sonu\n",
      "math : 67\n",
      "physics : 86\n",
      "chemistry : 90\n",
      "kamal\n",
      "math : 89\n",
      "physics : 99\n",
      "chemistry : 69\n"
     ]
    }
   ],
   "source": [
    "dict_marks={}\n",
    "dict_marks['pradeep']=[60,80,96]\n",
    "dict_marks['ramu']=[66,98,67]\n",
    "dict_marks['prakash']=[45,68,90]\n",
    "dict_marks['sonu']=[67,86,90]\n",
    "dict_marks['kamal']=[89,99,69]\n",
    "course_name=['math','physics','chemistry']\n",
    "for key,value in dict_marks.items():\n",
    "    print(key)\n",
    "    course_name_len=len(course_name)  # logic is simpe just itrate into the elements and print the keys as the name of the student\n",
    "    for j in range(course_name_len):# and print the marks with the name of the subject\n",
    "        print(course_name[j],':',value[j])"
   ]
  }
 ],
 "metadata": {
  "kernelspec": {
   "display_name": "base",
   "language": "python",
   "name": "python3"
  },
  "language_info": {
   "codemirror_mode": {
    "name": "ipython",
    "version": 3
   },
   "file_extension": ".py",
   "mimetype": "text/x-python",
   "name": "python",
   "nbconvert_exporter": "python",
   "pygments_lexer": "ipython3",
   "version": "3.11.4"
  }
 },
 "nbformat": 4,
 "nbformat_minor": 2
}
