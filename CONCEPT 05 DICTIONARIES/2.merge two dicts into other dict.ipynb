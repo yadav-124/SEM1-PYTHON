{
 "cells": [
  {
   "cell_type": "markdown",
   "metadata": {},
   "source": [
    "2.Merge these two dictionaries into one using for loop\n",
    "dict1 = {‘Ten’: 10, ‘Twenty’: 20, ‘Thirty’: 30}\n",
    "dict2 = {‘Thirty’: 30, ‘Fourty’: 40, ‘Fifty’: 50}"
   ]
  },
  {
   "cell_type": "code",
   "execution_count": 1,
   "metadata": {},
   "outputs": [
    {
     "name": "stdout",
     "output_type": "stream",
     "text": [
      "{'ten': 10, 'thirty': 30, 'fourty': 40, 'fifty': 50, 'twenty': 20}\n"
     ]
    }
   ],
   "source": [
    "dict1={'ten':10,'twenty':20,'thirty':30}\n",
    "dict2={'thirty':30,'fourty':40,'fifty':50}\n",
    "dict_merge={}\n",
    "for key,value in dict1.items():  # firstly itrate throught he first dictionary and make them to append into the new dictionary\n",
    "    dict_merge[key]=value\n",
    "    for key,value in dict2.items():# similarly itrate throught he secondaly dictionary and make them to append into the new dictionary\n",
    "        dict_merge[key]=value\n",
    "print(dict_merge)\n"
   ]
  }
 ],
 "metadata": {
  "kernelspec": {
   "display_name": "base",
   "language": "python",
   "name": "python3"
  },
  "language_info": {
   "codemirror_mode": {
    "name": "ipython",
    "version": 3
   },
   "file_extension": ".py",
   "mimetype": "text/x-python",
   "name": "python",
   "nbconvert_exporter": "python",
   "pygments_lexer": "ipython3",
   "version": "3.11.4"
  }
 },
 "nbformat": 4,
 "nbformat_minor": 2
}
