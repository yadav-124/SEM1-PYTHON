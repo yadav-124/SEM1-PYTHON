{
 "cells": [
  {
   "cell_type": "markdown",
   "metadata": {},
   "source": [
    "10.Create a text file with one word in each line. The words can be repeated, i.e. the same word can come in more than one line. Read this text file in python, and create a dictionary where the key is the word and the value is the number of times it occurs in the text file."
   ]
  },
  {
   "cell_type": "code",
   "execution_count": 2,
   "metadata": {},
   "outputs": [
    {
     "name": "stdout",
     "output_type": "stream",
     "text": [
      "{'papaya': 3, 'grapes': 2, 'mango': 1, 'pineapple': 3, 'rahul': 2, 'sonu': 2, 'sohan': 1}\n"
     ]
    }
   ],
   "source": [
    "dict1={}\n",
    "with open('file.text','r') as file:\n",
    "    for line in file: #itrate through the file \n",
    "       word=line.strip() #removes the ditances leading and trailing both apple\\n will read as \"apple\"\n",
    "       if word in dict1: # the logic used here is if any word comes more than 1 then the value corresponding to that key\n",
    "        # will increase by one\n",
    "        dict1[word]+=1  \n",
    "       else:\n",
    "        dict1[word]=1\n",
    "    print(dict1)"
   ]
  }
 ],
 "metadata": {
  "kernelspec": {
   "display_name": "base",
   "language": "python",
   "name": "python3"
  },
  "language_info": {
   "codemirror_mode": {
    "name": "ipython",
    "version": 3
   },
   "file_extension": ".py",
   "mimetype": "text/x-python",
   "name": "python",
   "nbconvert_exporter": "python",
   "pygments_lexer": "ipython3",
   "version": "3.11.4"
  }
 },
 "nbformat": 4,
 "nbformat_minor": 2
}
