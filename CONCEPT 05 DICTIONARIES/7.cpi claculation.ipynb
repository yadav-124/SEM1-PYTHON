{
 "cells": [
  {
   "cell_type": "markdown",
   "metadata": {},
   "source": [
    "7.Write a for loop to create another dictionary from the above where the marks are replaced by grades. Above 80 is A grade, 60–80 is B grade, 40–60 is C grade, and below 40 is F. Create another dictionary to store the max and average marks for each student. Use this dictionary to compute the final CPI/CGPA of the student. Course1 is of 4 credits, Course2 of 10 credits, and Course3 of 6 credits. Store these credits in a list. Write this dictionary as a json file, and read it back into a new dictionary."
   ]
  },
  {
   "cell_type": "code",
   "execution_count": 1,
   "metadata": {},
   "outputs": [
    {
     "name": "stdout",
     "output_type": "stream",
     "text": [
      "pradeep\n",
      "{'math': 'B', 'physics': 'B', 'chemistry': 'A'}\n",
      "[9, 9, 10]\n",
      "CPI= 9.3\n",
      "ramu\n",
      "{'math': 'B', 'physics': 'A', 'chemistry': 'B'}\n",
      "[9, 10, 9]\n",
      "CPI= 9.5\n",
      "prakash\n",
      "{'math': 'B', 'physics': 'B', 'chemistry': 'A'}\n",
      "[9, 9, 10]\n",
      "CPI= 9.3\n",
      "sonu\n",
      "{'math': 'B', 'physics': 'A', 'chemistry': 'A'}\n",
      "[9, 10, 10]\n",
      "CPI= 9.8\n",
      "kamal\n",
      "{'math': 'A', 'physics': 'A', 'chemistry': 'B'}\n",
      "[10, 10, 9]\n",
      "CPI= 9.7\n"
     ]
    }
   ],
   "source": [
    "dict_marks={}\n",
    "dict_grade={}\n",
    "dict_marks['pradeep']=[60,80,96]\n",
    "dict_marks['ramu']=[66,98,67]\n",
    "dict_marks['prakash']=[45,68,90]\n",
    "dict_marks['sonu']=[67,86,90]\n",
    "dict_marks['kamal']=[89,99,69]\n",
    "listc=[4,10,6]\n",
    "#list_gp=[] this is going to append  alii the grade points in ine list\n",
    "#grade points are as A=10 ,B=9 ,C=8 ,D=7\n",
    "course_name=['math','physics','chemistry']\n",
    "for key,value in dict_marks.items():\n",
    "    print(key)\n",
    "    list_gp=[]\n",
    "    for j in range(len(value)):\n",
    "        if value[j]>80:\n",
    "            dict_grade[course_name[j]]=\"A\"\n",
    "        elif value[j]<=80 and value[j>60]:\n",
    "            dict_grade[course_name[j]]=\"B\"\n",
    "        elif value[j]<=60 and value[j]>=40:\n",
    "            dict_grade[course_name[j]]=\"C\"\n",
    "        else:\n",
    "            dict_grade[course_name[j]]=\"D\"\n",
    "    print(dict_grade)\n",
    "    for key,value in dict_grade.items():\n",
    "        if value=='A':\n",
    "            list_gp.append(10)  # here the point to the grades are defined  previosly.\n",
    "        elif value=='B':\n",
    "            list_gp.append(9)\n",
    "        elif value=='C':\n",
    "            list_gp.append(8)\n",
    "        else:\n",
    "            list_gp.append(7)\n",
    "    print(list_gp)\n",
    "    tgp=0\n",
    "    if len(listc)==len(list_gp):  #  calculation of the cpi is under ten \n",
    "        for k in range(len(listc)):\n",
    "            m=listc[k]*list_gp[k]  # to get grade points we will multiply by the nomber of the credits\n",
    "            tgp=tgp+m\n",
    "            n=sum(listc)  # total number of the credits\n",
    "            cpi=tgp/n # this is the cpi\n",
    "        print(\"CPI=\",cpi)"
   ]
  }
 ],
 "metadata": {
  "kernelspec": {
   "display_name": "base",
   "language": "python",
   "name": "python3"
  },
  "language_info": {
   "codemirror_mode": {
    "name": "ipython",
    "version": 3
   },
   "file_extension": ".py",
   "mimetype": "text/x-python",
   "name": "python",
   "nbconvert_exporter": "python",
   "pygments_lexer": "ipython3",
   "version": "3.11.4"
  }
 },
 "nbformat": 4,
 "nbformat_minor": 2
}
