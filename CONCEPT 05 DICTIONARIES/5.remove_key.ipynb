{
 "cells": [
  {
   "cell_type": "markdown",
   "metadata": {},
   "source": [
    "5.Remove a key from a dictionary:\n",
    "dict_name.pop(key_name)\n",
    "What does this function return?\n",
    "Use pop to rename a key."
   ]
  },
  {
   "cell_type": "code",
   "execution_count": 2,
   "metadata": {},
   "outputs": [
    {
     "name": "stdout",
     "output_type": "stream",
     "text": [
      "{'name': 'kelly', 'salary': 8000}\n"
     ]
    }
   ],
   "source": [
    "dict_n={'name': 'kelly', 'age': 25, 'salary': 8000}\n",
    "dict_n.pop('age')  # it learns the value coreesponding to the removed key\n",
    "print(dict_n) #print the last thing of the dictionary\n"
   ]
  },
  {
   "cell_type": "code",
   "execution_count": 3,
   "metadata": {},
   "outputs": [
    {
     "name": "stdout",
     "output_type": "stream",
     "text": [
      "{'b': 2, 'c': 3, 'd': 1}\n"
     ]
    }
   ],
   "source": [
    "dict1={'a':1,'b':2,'c':3}\n",
    "dict1['d']=dict1.pop('a') #because here the pop function was knowing the value of the key already\n",
    "print(dict1)"
   ]
  }
 ],
 "metadata": {
  "kernelspec": {
   "display_name": "base",
   "language": "python",
   "name": "python3"
  },
  "language_info": {
   "codemirror_mode": {
    "name": "ipython",
    "version": 3
   },
   "file_extension": ".py",
   "mimetype": "text/x-python",
   "name": "python",
   "nbconvert_exporter": "python",
   "pygments_lexer": "ipython3",
   "version": "3.11.4"
  }
 },
 "nbformat": 4,
 "nbformat_minor": 2
}
