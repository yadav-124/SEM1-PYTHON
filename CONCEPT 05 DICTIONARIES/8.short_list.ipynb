{
 "cells": [
  {
   "cell_type": "markdown",
   "metadata": {},
   "source": [
    "8.Create a dictionary of your marks in various subjects and then sort it by its values first in descending order, and then in or ascending order. Do not use any inbuilt sorting functions."
   ]
  },
  {
   "cell_type": "code",
   "execution_count": 1,
   "metadata": {},
   "outputs": [
    {
     "name": "stdout",
     "output_type": "stream",
     "text": [
      "[80, 85, 95, 88, 95]\n",
      "values in the descending order [95, 95, 88, 85, 80]\n"
     ]
    }
   ],
   "source": [
    "dict_marks={}\n",
    "dict_marks[\"Physics\"]=80\n",
    "dict_marks[\"Chemistry\"]=85\n",
    "dict_marks[\"Maths\"]=95\n",
    "dict_marks[\"English\"]=88\n",
    "dict_marks[\"Hindi\"]=95\n",
    "#print(dict_marks)\n",
    "list_n=[]   # firstly we will have to make a list of the values which are the marks\n",
    "for key,value in dict_marks.items():\n",
    "    list_n.append(value)\n",
    "print(list_n)\n",
    "n=len(list_n)\n",
    "for i in range (n):\n",
    "    for j in range(0,n-i-1):\n",
    "        if list_n[j+1]>list_n[j]:  #for ascending list we will check for every next element and \n",
    "            list_n[j+1],list_n[j]=list_n[j], list_n[j+1]  #if the next element is greater then update the order of the numbers\n",
    "print(\"values in the descending order\",list_n)\n"
   ]
  }
 ],
 "metadata": {
  "kernelspec": {
   "display_name": "base",
   "language": "python",
   "name": "python3"
  },
  "language_info": {
   "codemirror_mode": {
    "name": "ipython",
    "version": 3
   },
   "file_extension": ".py",
   "mimetype": "text/x-python",
   "name": "python",
   "nbconvert_exporter": "python",
   "pygments_lexer": "ipython3",
   "version": "3.11.4"
  }
 },
 "nbformat": 4,
 "nbformat_minor": 2
}
