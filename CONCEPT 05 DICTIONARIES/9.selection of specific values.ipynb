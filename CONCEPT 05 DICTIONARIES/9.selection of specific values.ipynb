{
 "cells": [
  {
   "cell_type": "markdown",
   "metadata": {},
   "source": [
    "9.Create a dictionary whose keys are the names of your family members and friends, and the values are the list of fruits they like to eat. Now if the user gives a fruit as input, the code should print the list of names who like this fruit. Write another code to print the list of people who do not like this fruit. Using this dictionary as input, write a code to make a consolidated list of all the fruit names present in the values of various keys. This list should not have any duplicate entries. Do not use the set() function."
   ]
  },
  {
   "cell_type": "code",
   "execution_count": 1,
   "metadata": {},
   "outputs": [
    {
     "name": "stdout",
     "output_type": "stream",
     "text": [
      "asked fruit is: papaya\n",
      "the papaya is liked by these persons: ['rahul', 'vicky']\n"
     ]
    }
   ],
   "source": [
    "dict1={\n",
    "    \"rahul\":['papaya','mango','guava'],\n",
    "    \"sonu\":['grapes' ,'mango','watermalon'],\n",
    "    \"vicky\":['apple','papaya','mango'],\n",
    "    \"kavita\":['guava','grapes','pea'],\n",
    "    \"ramu\":['mango','grapes','pineapple']\n",
    "}\n",
    "fruit_asked=input(\"enter a name of fruit here\")\n",
    "print(\"asked fruit is:\",fruit_asked)\n",
    "list_like=[]\n",
    "for key,value in dict1.items():\n",
    "    for i in value:  # this will check in to the every list of the liked fruits\n",
    "        if i==fruit_asked:  # if the fruit is same as the asked fruit then it will append the key corresponding to that fruit \n",
    "            list_like.append(key)  # in to the list\n",
    "print(\"the\",fruit_asked,\"is liked by these persons:\",list_like)"
   ]
  },
  {
   "cell_type": "code",
   "execution_count": 2,
   "metadata": {},
   "outputs": [
    {
     "name": "stdout",
     "output_type": "stream",
     "text": [
      "asked fruit is: papaya\n",
      "the papaya is not liked by these persons: ['sonu', 'kavita', 'ramu']\n"
     ]
    }
   ],
   "source": [
    "dict1={\n",
    "    \"rahul\":['papaya','mango','guava'],\n",
    "    \"sonu\":['grapes' ,'mango','watermalon'],\n",
    "    \"vicky\":['apple','papaya','mango'],\n",
    "    \"kavita\":['guava','grapes','pea'],\n",
    "    \"ramu\":['mango','grapes','pineapple']\n",
    "}\n",
    "fruit_asked=input(\"enter a name of fruit here\")\n",
    "print(\"asked fruit is:\",fruit_asked)\n",
    "list_unlike=[]\n",
    "for key,value in dict1.items():\n",
    "    if fruit_asked not in value:  #here it will match the asked fruit to all the values of the dictionary and give that key \n",
    "        #of which any fruit does not match with it\n",
    "        list_unlike.append(key)\n",
    "print(\"the\",fruit_asked,\"is not liked by these persons:\",list_unlike)"
   ]
  },
  {
   "cell_type": "code",
   "execution_count": 1,
   "metadata": {},
   "outputs": [
    {
     "name": "stdout",
     "output_type": "stream",
     "text": [
      "['papaya', 'mango', 'guava', 'grapes', 'watermalon', 'apple', 'pea', 'pineapple']\n"
     ]
    }
   ],
   "source": [
    "dict1={\n",
    "    \"rahul\":['papaya','mango','guava'],\n",
    "    \"sonu\":['grapes' ,'mango','watermalon'],\n",
    "    \"vicky\":['apple','papaya','mango'],\n",
    "    \"kavita\":['guava','grapes','pea'],\n",
    "    \"ramu\":['mango','grapes','pineapple']\n",
    "}\n",
    "list_new=[]\n",
    "for key,value in dict1.items(): #we will first append one item and then before appending the next key we will see if it is already \n",
    "    #present or not , if not present then we will append next new key\n",
    "    for i in (value):\n",
    "        if  not i in list_new:\n",
    "            list_new.append(i)\n",
    "print(list_new)"
   ]
  }
 ],
 "metadata": {
  "kernelspec": {
   "display_name": "base",
   "language": "python",
   "name": "python3"
  },
  "language_info": {
   "codemirror_mode": {
    "name": "ipython",
    "version": 3
   },
   "file_extension": ".py",
   "mimetype": "text/x-python",
   "name": "python",
   "nbconvert_exporter": "python",
   "pygments_lexer": "ipython3",
   "version": "3.11.4"
  }
 },
 "nbformat": 4,
 "nbformat_minor": 2
}
