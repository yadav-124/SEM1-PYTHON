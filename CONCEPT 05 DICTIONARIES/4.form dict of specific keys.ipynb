{
 "cells": [
  {
   "cell_type": "markdown",
   "metadata": {},
   "source": [
    "4.Create a new dictionary so that it only has the keys mentioned in another list\n",
    "sample_dict = { “name”: “Kelly”, “age”: 25, “salary”: 8000, “city”: “New york”}\n",
    "* Keys to extract\n",
    "keys = [“name”, “salary”]\n"
   ]
  },
  {
   "cell_type": "code",
   "execution_count": 1,
   "metadata": {},
   "outputs": [
    {
     "name": "stdout",
     "output_type": "stream",
     "text": [
      "{'name': 'kelly', 'salary': 8000}\n"
     ]
    }
   ],
   "source": [
    "dict1={\"name\":\"kelly\",\"age\":25,\"salary\":8000,\"city\":\"newyork\"}\n",
    "keycheck=[\"name\",\"salary\"]\n",
    "dict2={}\n",
    "for key in keycheck:  # we will go to see all the keys into the first dictionary\n",
    "    if key in dict1.keys():  # if same key is present in the list then we will apeend it in to the new dictioary\n",
    "        dict2[key]=dict1[key]  \n",
    "    else:\n",
    "        print(\"it's okay no problem\")\n",
    "print(dict2)"
   ]
  }
 ],
 "metadata": {
  "kernelspec": {
   "display_name": "base",
   "language": "python",
   "name": "python3"
  },
  "language_info": {
   "codemirror_mode": {
    "name": "ipython",
    "version": 3
   },
   "file_extension": ".py",
   "mimetype": "text/x-python",
   "name": "python",
   "nbconvert_exporter": "python",
   "pygments_lexer": "ipython3",
   "version": "3.11.4"
  }
 },
 "nbformat": 4,
 "nbformat_minor": 2
}
