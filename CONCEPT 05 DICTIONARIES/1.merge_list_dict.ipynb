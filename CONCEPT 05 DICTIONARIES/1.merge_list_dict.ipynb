{
 "cells": [
  {
   "cell_type": "markdown",
   "metadata": {},
   "source": [
    "1.Convert these two lists into a dictionary. Take the keys from the first list, and values from the second one.\n",
    "keys = [‘Ten’, ‘Twenty’, ‘Thirty’]\n",
    "values = [10, 20, 30]"
   ]
  },
  {
   "cell_type": "code",
   "execution_count": 1,
   "metadata": {},
   "outputs": [
    {
     "name": "stdout",
     "output_type": "stream",
     "text": [
      "{'ten': 10, 'twenty': 20, 'thirty': 30}\n"
     ]
    }
   ],
   "source": [
    "keys=['ten','twenty','thirty']\n",
    "values=[10,20,30]\n",
    "dict1={}\n",
    "values_len=len(values)\n",
    "keys_len=len(keys)\n",
    "if values_len==keys_len:   # it is important to check that if the lenth of both the lists are equal or not \n",
    "    for i in range(values_len):\n",
    "        key=keys[i]  # we are giving the same index to make the dictionary\n",
    "        value=values[i]\n",
    "        dict1[key]=value  # this will finally make the dictionary\n",
    "    print(dict1)"
   ]
  }
 ],
 "metadata": {
  "kernelspec": {
   "display_name": "base",
   "language": "python",
   "name": "python3"
  },
  "language_info": {
   "codemirror_mode": {
    "name": "ipython",
    "version": 3
   },
   "file_extension": ".py",
   "mimetype": "text/x-python",
   "name": "python",
   "nbconvert_exporter": "python",
   "pygments_lexer": "ipython3",
   "version": "3.11.4"
  }
 },
 "nbformat": 4,
 "nbformat_minor": 2
}
