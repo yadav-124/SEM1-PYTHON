{
 "cells": [
  {
   "cell_type": "markdown",
   "metadata": {},
   "source": [
    "Given a year, check if it is a leap year or not. A leap year is divisible by 4, except for years that are divisible by 100. However, years that are divisible by 400 are also leap years."
   ]
  },
  {
   "cell_type": "code",
   "execution_count": 3,
   "metadata": {},
   "outputs": [
    {
     "name": "stdout",
     "output_type": "stream",
     "text": [
      "the year to check is: 2024\n",
      "this is a leap year\n"
     ]
    }
   ],
   "source": [
    "y=int(input(\"enter the value of the year:\")) #take the input as year by user to check the required.\n",
    "print(\"the year to check is:\",y)\n",
    "if y%4==0 and y%100!=0:  #first codition to be the leap year is the year should be devisible  by 4 but not by 100 simultaneously.\n",
    "    print(\"this is a leap year\")\n",
    "elif y%400==0:  #OR THE year should be devisible by 400 only to be a leap year too.\n",
    "    print(\"this is a leap year\")\n",
    "else:\n",
    "    print(\"this is not a leap year\")\n"
   ]
  }
 ],
 "metadata": {
  "kernelspec": {
   "display_name": "base",
   "language": "python",
   "name": "python3"
  },
  "language_info": {
   "codemirror_mode": {
    "name": "ipython",
    "version": 3
   },
   "file_extension": ".py",
   "mimetype": "text/x-python",
   "name": "python",
   "nbconvert_exporter": "python",
   "pygments_lexer": "ipython3",
   "version": "3.11.4"
  }
 },
 "nbformat": 4,
 "nbformat_minor": 2
}
