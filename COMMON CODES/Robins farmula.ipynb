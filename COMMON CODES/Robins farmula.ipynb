{
 "cells": [
  {
   "cell_type": "markdown",
   "metadata": {},
   "source": [
    "Finding the weight  from height (Robbins's Farmula)"
   ]
  },
  {
   "cell_type": "code",
   "execution_count": 3,
   "metadata": {},
   "outputs": [
    {
     "data": {
      "text/plain": [
       "74.8"
      ]
     },
     "execution_count": 3,
     "metadata": {},
     "output_type": "execute_result"
    }
   ],
   "source": [
    "# Here the value of 'a' will define the sex of the person. for male you must give 1 as value of the aand for women \n",
    "# any number other than1\n",
    "# the value of the 'b' should be given as the height of the person that is more than 60 inches\n",
    "def find_weight(a,b):\n",
    "    if a==1:\n",
    "        w=52+(1.9*b)\n",
    "        return w\n",
    "    else:\n",
    "        w=49+(1.6*b)\n",
    "        return w\n",
    "find_weight(1,12)"
   ]
  }
 ],
 "metadata": {
  "kernelspec": {
   "display_name": "Python 3",
   "language": "python",
   "name": "python3"
  },
  "language_info": {
   "codemirror_mode": {
    "name": "ipython",
    "version": 3
   },
   "file_extension": ".py",
   "mimetype": "text/x-python",
   "name": "python",
   "nbconvert_exporter": "python",
   "pygments_lexer": "ipython3",
   "version": "3.11.4"
  },
  "orig_nbformat": 4
 },
 "nbformat": 4,
 "nbformat_minor": 2
}
